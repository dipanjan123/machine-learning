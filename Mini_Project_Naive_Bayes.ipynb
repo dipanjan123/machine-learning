{
 "cells": [
  {
   "cell_type": "markdown",
   "metadata": {},
   "source": [
    "# Basic Text Classification with Naive Bayes\n",
    "***\n",
    "In the mini-project, you'll learn the basics of text analysis using a subset of movie reviews from the rotten tomatoes database. You'll also use a fundamental technique in Bayesian inference, called Naive Bayes. This mini-project is based on [Lab 10 of Harvard's CS109](https://github.com/cs109/2015lab10) class.  Please free to go to the original lab for additional exercises and solutions."
   ]
  },
  {
   "cell_type": "code",
   "execution_count": 1,
   "metadata": {
    "collapsed": true
   },
   "outputs": [],
   "source": [
    "%matplotlib inline\n",
    "import numpy as np\n",
    "import scipy as sp\n",
    "import matplotlib as mpl\n",
    "import matplotlib.cm as cm\n",
    "import matplotlib.pyplot as plt\n",
    "import pandas as pd\n",
    "import seaborn as sns\n",
    "from six.moves import range\n",
    "\n",
    "# Setup Pandas\n",
    "pd.set_option('display.width', 500)\n",
    "pd.set_option('display.max_columns', 100)\n",
    "pd.set_option('display.notebook_repr_html', True)\n",
    "\n",
    "# Setup Seaborn\n",
    "sns.set_style(\"whitegrid\")\n",
    "sns.set_context(\"poster\")"
   ]
  },
  {
   "cell_type": "markdown",
   "metadata": {},
   "source": [
    "# Table of Contents\n",
    "\n",
    "* [Rotten Tomatoes Dataset](#Rotten-Tomatoes-Dataset)\n",
    "    * [Explore](#Explore)\n",
    "* [The Vector Space Model and a Search Engine](#The-Vector-Space-Model-and-a-Search-Engine)\n",
    "    * [In Code](#In-Code)\n",
    "* [Naive Bayes](#Naive-Bayes)\n",
    "    * [Multinomial Naive Bayes and Other Likelihood Functions](#Multinomial-Naive-Bayes-and-Other-Likelihood-Functions)\n",
    "    * [Picking Hyperparameters for Naive Bayes and Text Maintenance](#Picking-Hyperparameters-for-Naive-Bayes-and-Text-Maintenance)\n",
    "* [Interpretation](#Interpretation)\n"
   ]
  },
  {
   "cell_type": "markdown",
   "metadata": {},
   "source": [
    "## Rotten Tomatoes Dataset"
   ]
  },
  {
   "cell_type": "code",
   "execution_count": 2,
   "metadata": {},
   "outputs": [
    {
     "data": {
      "text/html": [
       "<div>\n",
       "<style>\n",
       "    .dataframe thead tr:only-child th {\n",
       "        text-align: right;\n",
       "    }\n",
       "\n",
       "    .dataframe thead th {\n",
       "        text-align: left;\n",
       "    }\n",
       "\n",
       "    .dataframe tbody tr th {\n",
       "        vertical-align: top;\n",
       "    }\n",
       "</style>\n",
       "<table border=\"1\" class=\"dataframe\">\n",
       "  <thead>\n",
       "    <tr style=\"text-align: right;\">\n",
       "      <th></th>\n",
       "      <th>critic</th>\n",
       "      <th>fresh</th>\n",
       "      <th>imdb</th>\n",
       "      <th>publication</th>\n",
       "      <th>quote</th>\n",
       "      <th>review_date</th>\n",
       "      <th>rtid</th>\n",
       "      <th>title</th>\n",
       "    </tr>\n",
       "  </thead>\n",
       "  <tbody>\n",
       "    <tr>\n",
       "      <th>1</th>\n",
       "      <td>Derek Adams</td>\n",
       "      <td>fresh</td>\n",
       "      <td>114709</td>\n",
       "      <td>Time Out</td>\n",
       "      <td>So ingenious in concept, design and execution ...</td>\n",
       "      <td>2009-10-04</td>\n",
       "      <td>9559</td>\n",
       "      <td>Toy story</td>\n",
       "    </tr>\n",
       "    <tr>\n",
       "      <th>2</th>\n",
       "      <td>Richard Corliss</td>\n",
       "      <td>fresh</td>\n",
       "      <td>114709</td>\n",
       "      <td>TIME Magazine</td>\n",
       "      <td>The year's most inventive comedy.</td>\n",
       "      <td>2008-08-31</td>\n",
       "      <td>9559</td>\n",
       "      <td>Toy story</td>\n",
       "    </tr>\n",
       "    <tr>\n",
       "      <th>3</th>\n",
       "      <td>David Ansen</td>\n",
       "      <td>fresh</td>\n",
       "      <td>114709</td>\n",
       "      <td>Newsweek</td>\n",
       "      <td>A winning animated feature that has something ...</td>\n",
       "      <td>2008-08-18</td>\n",
       "      <td>9559</td>\n",
       "      <td>Toy story</td>\n",
       "    </tr>\n",
       "    <tr>\n",
       "      <th>4</th>\n",
       "      <td>Leonard Klady</td>\n",
       "      <td>fresh</td>\n",
       "      <td>114709</td>\n",
       "      <td>Variety</td>\n",
       "      <td>The film sports a provocative and appealing st...</td>\n",
       "      <td>2008-06-09</td>\n",
       "      <td>9559</td>\n",
       "      <td>Toy story</td>\n",
       "    </tr>\n",
       "    <tr>\n",
       "      <th>5</th>\n",
       "      <td>Jonathan Rosenbaum</td>\n",
       "      <td>fresh</td>\n",
       "      <td>114709</td>\n",
       "      <td>Chicago Reader</td>\n",
       "      <td>An entertaining computer-generated, hyperreali...</td>\n",
       "      <td>2008-03-10</td>\n",
       "      <td>9559</td>\n",
       "      <td>Toy story</td>\n",
       "    </tr>\n",
       "  </tbody>\n",
       "</table>\n",
       "</div>"
      ],
      "text/plain": [
       "               critic  fresh    imdb     publication                                              quote review_date  rtid      title\n",
       "1         Derek Adams  fresh  114709        Time Out  So ingenious in concept, design and execution ...  2009-10-04  9559  Toy story\n",
       "2     Richard Corliss  fresh  114709   TIME Magazine                  The year's most inventive comedy.  2008-08-31  9559  Toy story\n",
       "3         David Ansen  fresh  114709        Newsweek  A winning animated feature that has something ...  2008-08-18  9559  Toy story\n",
       "4       Leonard Klady  fresh  114709         Variety  The film sports a provocative and appealing st...  2008-06-09  9559  Toy story\n",
       "5  Jonathan Rosenbaum  fresh  114709  Chicago Reader  An entertaining computer-generated, hyperreali...  2008-03-10  9559  Toy story"
      ]
     },
     "execution_count": 2,
     "metadata": {},
     "output_type": "execute_result"
    }
   ],
   "source": [
    "critics = pd.read_csv('./critics.csv')\n",
    "#let's drop rows with missing quotes\n",
    "critics = critics[~critics.quote.isnull()]\n",
    "critics.head()"
   ]
  },
  {
   "cell_type": "markdown",
   "metadata": {},
   "source": [
    "### Explore"
   ]
  },
  {
   "cell_type": "code",
   "execution_count": 3,
   "metadata": {},
   "outputs": [
    {
     "name": "stdout",
     "output_type": "stream",
     "text": [
      "Number of reviews: 15561\n",
      "Number of critics: 623\n",
      "Number of movies:  1921\n"
     ]
    }
   ],
   "source": [
    "n_reviews = len(critics)\n",
    "n_movies = critics.rtid.unique().size\n",
    "n_critics = critics.critic.unique().size\n",
    "\n",
    "\n",
    "print(\"Number of reviews: {:d}\".format(n_reviews))\n",
    "print(\"Number of critics: {:d}\".format(n_critics))\n",
    "print(\"Number of movies:  {:d}\".format(n_movies))"
   ]
  },
  {
   "cell_type": "code",
   "execution_count": 4,
   "metadata": {},
   "outputs": [
    {
     "data": {
      "image/png": "[encoded data removed]",
      "text/plain": [
       "<matplotlib.figure.Figure at 0x10f795e80>"
      ]
     },
     "metadata": {},
     "output_type": "display_data"
    }
   ],
   "source": [
    "df = critics.copy()\n",
    "df['fresh'] = df.fresh == 'fresh'\n",
    "grp = df.groupby('critic')\n",
    "counts = grp.critic.count()  # number of reviews by each critic\n",
    "means = grp.fresh.mean()     # average freshness for each critic\n",
    "\n",
    "means[counts > 100].hist(bins=10, edgecolor='w', lw=1)\n",
    "plt.xlabel(\"Average Rating per critic\")\n",
    "plt.ylabel(\"Number of Critics\")\n",
    "plt.yticks([0, 2, 4, 6, 8, 10]);"
   ]
  },
  {
   "cell_type": "markdown",
   "metadata": {},
   "source": [
    "<div class=\"span5 alert alert-info\">\n",
    "<h3>Exercise Set I</h3>\n",
    "<br/>\n",
    "<b>Exercise:</b> Look at the histogram above. Tell a story about the average ratings per critic. What shape does the distribution look like? What is interesting about the distribution? What might explain these interesting things?\n",
    "</div>"
   ]
  },
  {
   "cell_type": "markdown",
   "metadata": {},
   "source": [
    "The Critica rate lots of movies evidenced from the fact that 623 critics created 15561 reviews.\n",
    "\n",
    "Average ratings per critic roughly follows a normal distribution. Most critics provide 0.6 rating for a movie."
   ]
  },
  {
   "cell_type": "markdown",
   "metadata": {},
   "source": [
    "## The Vector Space Model and a Search Engine"
   ]
  },
  {
   "cell_type": "markdown",
   "metadata": {},
   "source": [
    "All the diagrams here are snipped from [*Introduction to Information Retrieval* by Manning et. al.]( http://nlp.stanford.edu/IR-book/) which is a great resource on text processing. For additional information on text mining and natural language processing, see [*Foundations of Statistical Natural Language Processing* by Manning and Schutze](http://nlp.stanford.edu/fsnlp/).\n",
    "\n",
    "Also check out Python packages [`nltk`](http://www.nltk.org/), [`spaCy`](https://spacy.io/), [`pattern`](http://www.clips.ua.ac.be/pattern), and their associated resources. Also see [`word2vec`](https://en.wikipedia.org/wiki/Word2vec).\n",
    "\n",
    "Let us define the vector derived from document $d$ by $\\bar V(d)$. What does this mean? Each document is treated as a vector containing information about the words contained in it. Each vector has the same length and each entry \"slot\" in the vector contains some kind of data about the words that appear in the document such as presence/absence (1/0), count (an integer) or some other statistic. Each vector has the same length because each document shared the same vocabulary across the full collection of documents -- this collection is called a *corpus*.\n",
    "\n",
    "To define the vocabulary, we take a union of all words we have seen in all documents. We then just associate an array index with them. So \"hello\" may be at index 5 and \"world\" at index 99.\n",
    "\n",
    "Suppose we have the following corpus:\n",
    "\n",
    "`A Fox one day spied a beautiful bunch of ripe grapes hanging from a vine trained along the branches of a tree. The grapes seemed ready to burst with juice, and the Fox's mouth watered as he gazed longingly at them.`\n",
    "\n",
    "Suppose we treat each sentence as a document $d$. The vocabulary (often called the *lexicon*) is the following:\n",
    "\n",
    "$V = \\left\\{\\right.$ `a, along, and, as, at, beautiful, branches, bunch, burst, day, fox, fox's, from, gazed, grapes, hanging, he, juice, longingly, mouth, of, one, ready, ripe, seemed, spied, the, them, to, trained, tree, vine, watered, with`$\\left.\\right\\}$\n",
    "\n",
    "Then the document\n",
    "\n",
    "`A Fox one day spied a beautiful bunch of ripe grapes hanging from a vine trained along the branches of a tree`\n",
    "\n",
    "may be represented as the following sparse vector of word counts:\n",
    "\n",
    "$$\\bar V(d) = \\left( 4,1,0,0,0,1,1,1,0,1,1,0,1,0,1,1,0,0,0,0,2,1,0,1,0,0,1,0,0,0,1,1,0,0 \\right)$$\n",
    "\n",
    "or more succinctly as\n",
    "\n",
    "`[(0, 4), (1, 1), (5, 1), (6, 1), (7, 1), (9, 1), (10, 1), (12, 1), (14, 1), (15, 1), (20, 2), (21, 1), (23, 1),`\n",
    "`(26, 1), (30, 1), (31, 1)]`\n",
    "\n",
    "along with a dictionary\n",
    "\n",
    "``\n",
    "{\n",
    "    0: a, 1: along, 5: beautiful, 6: branches, 7: bunch, 9: day, 10: fox, 12: from, 14: grapes, \n",
    "    15: hanging, 19: mouth, 20: of, 21: one, 23: ripe, 24: seemed, 25: spied, 26: the, \n",
    "    30: tree, 31: vine, \n",
    "}\n",
    "``\n",
    "\n",
    "Then, a set of documents becomes, in the usual `sklearn` style, a sparse matrix with rows being sparse arrays representing documents and columns representing the features/words in the vocabulary.\n",
    "\n",
    "Notice that this representation loses the relative ordering of the terms in the document. That is \"cat ate rat\" and \"rat ate cat\" are the same. Thus, this representation is also known as the Bag-Of-Words representation.\n",
    "\n",
    "Here is another example, from the book quoted above, although the matrix is transposed here so that documents are columns:\n",
    "\n",
    "![novel terms](terms.png)\n",
    "\n",
    "Such a matrix is also catted a Term-Document Matrix. Here, the terms being indexed could be stemmed before indexing; for instance, `jealous` and `jealousy` after stemming are the same feature. One could also make use of other \"Natural Language Processing\" transformations in constructing the vocabulary. We could use Lemmatization, which reduces words to lemmas: work, working, worked would all reduce to work. We could remove \"stopwords\" from our vocabulary, such as common words like \"the\". We could look for particular parts of speech, such as adjectives. This is often done in Sentiment Analysis. And so on. It all depends on our application.\n",
    "\n",
    "From the book:\n",
    ">The standard way of quantifying the similarity between two documents $d_1$ and $d_2$  is to compute the cosine similarity of their vector representations $\\bar V(d_1)$ and $\\bar V(d_2)$:\n",
    "\n",
    "$$S_{12} = \\frac{\\bar V(d_1) \\cdot \\bar V(d_2)}{|\\bar V(d_1)| \\times |\\bar V(d_2)|}$$\n",
    "\n",
    "![Vector Space Model](vsm.png)\n",
    "\n",
    "\n",
    ">There is a far more compelling reason to represent documents as vectors: we can also view a query as a vector. Consider the query q = jealous gossip. This query turns into the unit vector $\\bar V(q)$ = (0, 0.707, 0.707) on the three coordinates below. \n",
    "\n",
    "![novel terms](terms2.png)\n",
    "\n",
    ">The key idea now: to assign to each document d a score equal to the dot product:\n",
    "\n",
    "$$\\bar V(q) \\cdot \\bar V(d)$$\n",
    "\n",
    "Then we can use this simple Vector Model as a Search engine."
   ]
  },
  {
   "cell_type": "markdown",
   "metadata": {},
   "source": [
    "### In Code"
   ]
  },
  {
   "cell_type": "code",
   "execution_count": 5,
   "metadata": {},
   "outputs": [
    {
     "name": "stdout",
     "output_type": "stream",
     "text": [
      "Original text is\n",
      "Hop on pop\n",
      "Hop off pop\n",
      "Hop Hop hop\n",
      "\n",
      "Transformed text vector is \n",
      "[[1 0 1 1]\n",
      " [1 1 0 1]\n",
      " [3 0 0 0]]\n",
      "\n",
      "Words for each feature:\n",
      "['hop', 'off', 'on', 'pop']\n"
     ]
    }
   ],
   "source": [
    "from sklearn.feature_extraction.text import CountVectorizer\n",
    "\n",
    "text = ['Hop on pop', 'Hop off pop', 'Hop Hop hop']\n",
    "print(\"Original text is\\n{}\".format('\\n'.join(text)))\n",
    "\n",
    "vectorizer = CountVectorizer(min_df=0)\n",
    "\n",
    "# call `fit` to build the vocabulary\n",
    "vectorizer.fit(text)\n",
    "\n",
    "# call `transform` to convert text to a bag of words\n",
    "x = vectorizer.transform(text)\n",
    "\n",
    "# CountVectorizer uses a sparse array to save memory, but it's easier in this assignment to \n",
    "# convert back to a \"normal\" numpy array\n",
    "x = x.toarray()\n",
    "\n",
    "print(\"\")\n",
    "print(\"Transformed text vector is \\n{}\".format(x))\n",
    "\n",
    "# `get_feature_names` tracks which word is associated with each column of the transformed x\n",
    "print(\"\")\n",
    "print(\"Words for each feature:\")\n",
    "print(vectorizer.get_feature_names())\n",
    "\n",
    "# Notice that the bag of words treatment doesn't preserve information about the *order* of words, \n",
    "# just their frequency"
   ]
  },
  {
   "cell_type": "code",
   "execution_count": 6,
   "metadata": {
    "collapsed": true
   },
   "outputs": [],
   "source": [
    "def make_xy(critics, vectorizer=None):\n",
    "    #Your code here    \n",
    "    if vectorizer is None:\n",
    "        vectorizer = CountVectorizer()\n",
    "    X = vectorizer.fit_transform(critics.quote)\n",
    "    X = X.tocsc()  # some versions of sklearn return COO format\n",
    "    y = (critics.fresh == 'fresh').values.astype(np.int)\n",
    "    return X, y\n",
    "X, y = make_xy(critics)"
   ]
  },
  {
   "cell_type": "markdown",
   "metadata": {},
   "source": [
    "## Naive Bayes"
   ]
  },
  {
   "cell_type": "markdown",
   "metadata": {},
   "source": [
    "From Bayes' Theorem, we have that\n",
    "\n",
    "$$P(c \\vert f) = \\frac{P(c \\cap f)}{P(f)}$$\n",
    "\n",
    "where $c$ represents a *class* or category, and $f$ represents a feature vector, such as $\\bar V(d)$ as above. **We are computing the probability that a document (or whatever we are classifying) belongs to category *c* given the features in the document.** $P(f)$ is really just a normalization constant, so the literature usually writes Bayes' Theorem in context of Naive Bayes as\n",
    "\n",
    "$$P(c \\vert f) \\propto P(f \\vert c) P(c) $$\n",
    "\n",
    "$P(c)$ is called the *prior* and is simply the probability of seeing class $c$. But what is $P(f \\vert c)$? This is the probability that we see feature set $f$ given that this document is actually in class $c$. This is called the *likelihood* and comes from the data. One of the major assumptions of the Naive Bayes model is that the features are *conditionally independent* given the class. While the presence of a particular discriminative word may uniquely identify the document as being part of class $c$ and thus violate general feature independence, conditional independence means that the presence of that term is independent of all the other words that appear *within that class*. This is a very important distinction. Recall that if two events are independent, then:\n",
    "\n",
    "$$P(A \\cap B) = P(A) \\cdot P(B)$$\n",
    "\n",
    "Thus, conditional independence implies\n",
    "\n",
    "$$P(f \\vert c)  = \\prod_i P(f_i | c) $$\n",
    "\n",
    "where $f_i$ is an individual feature (a word in this example).\n",
    "\n",
    "To make a classification, we then choose the class $c$ such that $P(c \\vert f)$ is maximal.\n",
    "\n",
    "There is a small caveat when computing these probabilities. For [floating point underflow](http://nlp.stanford.edu/IR-book/html/htmledition/naive-bayes-text-classification-1.html) we change the product into a sum by going into log space. This is called the LogSumExp trick. So:\n",
    "\n",
    "$$\\log P(f \\vert c)  = \\sum_i \\log P(f_i \\vert c) $$\n",
    "\n",
    "There is another caveat. What if we see a term that didn't exist in the training data? This means that $P(f_i \\vert c) = 0$ for that term, and thus $P(f \\vert c)  = \\prod_i P(f_i | c) = 0$, which doesn't help us at all. Instead of using zeros, we add a small negligible value called $\\alpha$ to each count. This is called Laplace Smoothing.\n",
    "\n",
    "$$P(f_i \\vert c) = \\frac{N_{ic}+\\alpha}{N_c + \\alpha N_i}$$\n",
    "\n",
    "where $N_{ic}$ is the number of times feature $i$ was seen in class $c$, $N_c$ is the number of times class $c$ was seen and $N_i$ is the number of times feature $i$ was seen globally. $\\alpha$ is sometimes called a regularization parameter."
   ]
  },
  {
   "cell_type": "markdown",
   "metadata": {},
   "source": [
    "### Multinomial Naive Bayes and Other Likelihood Functions\n",
    "\n",
    "Since we are modeling word counts, we are using variation of Naive Bayes called Multinomial Naive Bayes. This is because the likelihood function actually takes the form of the multinomial distribution.\n",
    "\n",
    "$$P(f \\vert c) = \\frac{\\left( \\sum_i f_i \\right)!}{\\prod_i f_i!} \\prod_{f_i} P(f_i \\vert c)^{f_i} \\propto \\prod_{i} P(f_i \\vert c)$$\n",
    "\n",
    "where the nasty term out front is absorbed as a normalization constant such that probabilities sum to 1.\n",
    "\n",
    "There are many other variations of Naive Bayes, all which depend on what type of value $f_i$ takes. If $f_i$ is continuous, we may be able to use *Gaussian Naive Bayes*. First compute the mean and variance for each class $c$. Then the likelihood, $P(f \\vert c)$ is given as follows\n",
    "\n",
    "$$P(f_i = v \\vert c) = \\frac{1}{\\sqrt{2\\pi \\sigma^2_c}} e^{- \\frac{\\left( v - \\mu_c \\right)^2}{2 \\sigma^2_c}}$$"
   ]
  },
  {
   "cell_type": "markdown",
   "metadata": {},
   "source": [
    "<div class=\"span5 alert alert-info\">\n",
    "<h3>Exercise Set II</h3>\n",
    "\n",
    "<p><b>Exercise:</b> Implement a simple Naive Bayes classifier:</p>\n",
    "\n",
    "<ol>\n",
    "<li> split the data set into a training and test set\n",
    "<li> Use `scikit-learn`'s `MultinomialNB()` classifier with default parameters.\n",
    "<li> train the classifier over the training set and test on the test set\n",
    "<li> print the accuracy scores for both the training and the test sets\n",
    "</ol>\n",
    "\n",
    "What do you notice? Is this a good classifier? If not, why not?\n",
    "</div>"
   ]
  },
  {
   "cell_type": "code",
   "execution_count": 7,
   "metadata": {
    "collapsed": true
   },
   "outputs": [],
   "source": [
    "#your turn\n",
    "from sklearn.model_selection import train_test_split\n",
    "from sklearn.naive_bayes import MultinomialNB"
   ]
  },
  {
   "cell_type": "code",
   "execution_count": 8,
   "metadata": {
    "collapsed": true
   },
   "outputs": [],
   "source": [
    "X_train, X_test, y_train, y_test = train_test_split(X,y)\n",
    "#Use scikit-learn's MultinomialNB() classifier with default parameters. \n",
    "clf = MultinomialNB()"
   ]
  },
  {
   "cell_type": "code",
   "execution_count": 9,
   "metadata": {},
   "outputs": [
    {
     "data": {
      "text/plain": [
       "MultinomialNB(alpha=1.0, class_prior=None, fit_prior=True)"
      ]
     },
     "execution_count": 9,
     "metadata": {},
     "output_type": "execute_result"
    }
   ],
   "source": [
    "#train the classifier over the training set and test on the test set \n",
    "clf.fit(X_train, y_train)"
   ]
  },
  {
   "cell_type": "code",
   "execution_count": 10,
   "metadata": {},
   "outputs": [
    {
     "name": "stdout",
     "output_type": "stream",
     "text": [
      "[0 1 1]\n"
     ]
    }
   ],
   "source": [
    "#train the classifier over the training set and test on the test set \n",
    "print(clf.predict(X_test[2:5]))"
   ]
  },
  {
   "cell_type": "code",
   "execution_count": 11,
   "metadata": {},
   "outputs": [
    {
     "data": {
      "text/plain": [
       "array([0, 1, 1])"
      ]
     },
     "execution_count": 11,
     "metadata": {},
     "output_type": "execute_result"
    }
   ],
   "source": [
    "y_test[2:5]"
   ]
  },
  {
   "cell_type": "code",
   "execution_count": 12,
   "metadata": {},
   "outputs": [
    {
     "name": "stdout",
     "output_type": "stream",
     "text": [
      "training accuracy : 92.28\n",
      "testing accuracy  : 76.74\n"
     ]
    }
   ],
   "source": [
    "#print the accuracy scores for both the training and the test sets \n",
    "print('training accuracy : %2.2f'  %(100*clf.score(X_train,y_train)))\n",
    "print('testing accuracy  : %2.2f' %(100*clf.score(X_test,y_test)))"
   ]
  },
  {
   "cell_type": "markdown",
   "metadata": {},
   "source": [
    "The accuracy needs to be improved"
   ]
  },
  {
   "cell_type": "markdown",
   "metadata": {},
   "source": [
    "### Picking Hyperparameters for Naive Bayes and Text Maintenance"
   ]
  },
  {
   "cell_type": "markdown",
   "metadata": {},
   "source": [
    "We need to know what value to use for $\\alpha$, and we also need to know which words to include in the vocabulary. As mentioned earlier, some words are obvious stopwords. Other words appear so infrequently that they serve as noise, and other words in addition to stopwords appear so frequently that they may also serve as noise."
   ]
  },
  {
   "cell_type": "markdown",
   "metadata": {},
   "source": [
    "First, let's find an appropriate value for `min_df` for the `CountVectorizer`. `min_df` can be either an integer or a float/decimal. If it is an integer, `min_df` represents the minimum number of documents a word must appear in for it to be included in the vocabulary. If it is a float, it represents the minimum *percentage* of documents a word must appear in to be included in the vocabulary. From the documentation:"
   ]
  },
  {
   "cell_type": "markdown",
   "metadata": {},
   "source": [
    ">min_df: When building the vocabulary ignore terms that have a document frequency strictly lower than the given threshold. This value is also called cut-off in the literature. If float, the parameter represents a proportion of documents, integer absolute counts. This parameter is ignored if vocabulary is not None."
   ]
  },
  {
   "cell_type": "markdown",
   "metadata": {},
   "source": [
    "<div class=\"span5 alert alert-info\">\n",
    "<h3>Exercise Set III</h3>\n",
    "\n",
    "<p><b>Exercise:</b> Construct the cumulative distribution of document frequencies (df). The $x$-axis is a document count $x_i$ and the $y$-axis is the percentage of words that appear less than $x_i$ times. For example, at $x=5$, plot a point representing the percentage or number of words that appear in 5 or fewer documents.</p>\n",
    "\n",
    "<p><b>Exercise:</b> Look for the point at which the curve begins climbing steeply. This may be a good value for `min_df`. If we were interested in also picking `max_df`, we would likely pick the value where the curve starts to plateau. What value did you choose?</p>\n",
    "</div>"
   ]
  },
  {
   "cell_type": "code",
   "execution_count": 13,
   "metadata": {},
   "outputs": [
    {
     "data": {
      "text/html": [
       "<div>\n",
       "<style>\n",
       "    .dataframe thead tr:only-child th {\n",
       "        text-align: right;\n",
       "    }\n",
       "\n",
       "    .dataframe thead th {\n",
       "        text-align: left;\n",
       "    }\n",
       "\n",
       "    .dataframe tbody tr th {\n",
       "        vertical-align: top;\n",
       "    }\n",
       "</style>\n",
       "<table border=\"1\" class=\"dataframe\">\n",
       "  <thead>\n",
       "    <tr style=\"text-align: right;\">\n",
       "      <th></th>\n",
       "      <th>critic</th>\n",
       "      <th>fresh</th>\n",
       "      <th>imdb</th>\n",
       "      <th>publication</th>\n",
       "      <th>quote</th>\n",
       "      <th>review_date</th>\n",
       "      <th>rtid</th>\n",
       "      <th>title</th>\n",
       "    </tr>\n",
       "  </thead>\n",
       "  <tbody>\n",
       "    <tr>\n",
       "      <th>1</th>\n",
       "      <td>Derek Adams</td>\n",
       "      <td>fresh</td>\n",
       "      <td>114709</td>\n",
       "      <td>Time Out</td>\n",
       "      <td>so ingenious in concept, design and execution ...</td>\n",
       "      <td>2009-10-04</td>\n",
       "      <td>9559</td>\n",
       "      <td>Toy story</td>\n",
       "    </tr>\n",
       "    <tr>\n",
       "      <th>2</th>\n",
       "      <td>Richard Corliss</td>\n",
       "      <td>fresh</td>\n",
       "      <td>114709</td>\n",
       "      <td>TIME Magazine</td>\n",
       "      <td>the year's most inventive comedy.</td>\n",
       "      <td>2008-08-31</td>\n",
       "      <td>9559</td>\n",
       "      <td>Toy story</td>\n",
       "    </tr>\n",
       "    <tr>\n",
       "      <th>3</th>\n",
       "      <td>David Ansen</td>\n",
       "      <td>fresh</td>\n",
       "      <td>114709</td>\n",
       "      <td>Newsweek</td>\n",
       "      <td>a winning animated feature that has something ...</td>\n",
       "      <td>2008-08-18</td>\n",
       "      <td>9559</td>\n",
       "      <td>Toy story</td>\n",
       "    </tr>\n",
       "    <tr>\n",
       "      <th>4</th>\n",
       "      <td>Leonard Klady</td>\n",
       "      <td>fresh</td>\n",
       "      <td>114709</td>\n",
       "      <td>Variety</td>\n",
       "      <td>the film sports a provocative and appealing st...</td>\n",
       "      <td>2008-06-09</td>\n",
       "      <td>9559</td>\n",
       "      <td>Toy story</td>\n",
       "    </tr>\n",
       "    <tr>\n",
       "      <th>5</th>\n",
       "      <td>Jonathan Rosenbaum</td>\n",
       "      <td>fresh</td>\n",
       "      <td>114709</td>\n",
       "      <td>Chicago Reader</td>\n",
       "      <td>an entertaining computer-generated, hyperreali...</td>\n",
       "      <td>2008-03-10</td>\n",
       "      <td>9559</td>\n",
       "      <td>Toy story</td>\n",
       "    </tr>\n",
       "  </tbody>\n",
       "</table>\n",
       "</div>"
      ],
      "text/plain": [
       "               critic  fresh    imdb     publication                                              quote review_date  rtid      title\n",
       "1         Derek Adams  fresh  114709        Time Out  so ingenious in concept, design and execution ...  2009-10-04  9559  Toy story\n",
       "2     Richard Corliss  fresh  114709   TIME Magazine                  the year's most inventive comedy.  2008-08-31  9559  Toy story\n",
       "3         David Ansen  fresh  114709        Newsweek  a winning animated feature that has something ...  2008-08-18  9559  Toy story\n",
       "4       Leonard Klady  fresh  114709         Variety  the film sports a provocative and appealing st...  2008-06-09  9559  Toy story\n",
       "5  Jonathan Rosenbaum  fresh  114709  Chicago Reader  an entertaining computer-generated, hyperreali...  2008-03-10  9559  Toy story"
      ]
     },
     "execution_count": 13,
     "metadata": {},
     "output_type": "execute_result"
    }
   ],
   "source": [
    "# Your turn.\n",
    "df_df = critics.copy()\n",
    "df_df.quote = df_df.quote.str.lower()\n",
    "df_df.head()"
   ]
  },
  {
   "cell_type": "code",
   "execution_count": 14,
   "metadata": {
    "collapsed": true
   },
   "outputs": [],
   "source": [
    "X_hp,y = make_xy(df_df)"
   ]
  },
  {
   "cell_type": "code",
   "execution_count": 15,
   "metadata": {
    "collapsed": true
   },
   "outputs": [],
   "source": [
    "df_word_f = pd.DataFrame(((X_hp>0).sum(axis=0).transpose()).A[:,0])"
   ]
  },
  {
   "cell_type": "code",
   "execution_count": 16,
   "metadata": {
    "collapsed": true
   },
   "outputs": [],
   "source": [
    "df_word_f=df_word_f.reset_index()"
   ]
  },
  {
   "cell_type": "code",
   "execution_count": 17,
   "metadata": {
    "collapsed": true
   },
   "outputs": [],
   "source": [
    "df_word_f.columns=['word','freq']"
   ]
  },
  {
   "cell_type": "code",
   "execution_count": 18,
   "metadata": {
    "collapsed": true
   },
   "outputs": [],
   "source": [
    "df_word_f.word=df_word_f.word+1"
   ]
  },
  {
   "cell_type": "code",
   "execution_count": 19,
   "metadata": {},
   "outputs": [
    {
     "data": {
      "text/html": [
       "<div>\n",
       "<style>\n",
       "    .dataframe thead tr:only-child th {\n",
       "        text-align: right;\n",
       "    }\n",
       "\n",
       "    .dataframe thead th {\n",
       "        text-align: left;\n",
       "    }\n",
       "\n",
       "    .dataframe tbody tr th {\n",
       "        vertical-align: top;\n",
       "    }\n",
       "</style>\n",
       "<table border=\"1\" class=\"dataframe\">\n",
       "  <thead>\n",
       "    <tr style=\"text-align: right;\">\n",
       "      <th></th>\n",
       "      <th>word</th>\n",
       "      <th>freq</th>\n",
       "    </tr>\n",
       "  </thead>\n",
       "  <tbody>\n",
       "    <tr>\n",
       "      <th>0</th>\n",
       "      <td>1</td>\n",
       "      <td>7</td>\n",
       "    </tr>\n",
       "    <tr>\n",
       "      <th>1</th>\n",
       "      <td>2</td>\n",
       "      <td>1</td>\n",
       "    </tr>\n",
       "    <tr>\n",
       "      <th>2</th>\n",
       "      <td>3</td>\n",
       "      <td>10</td>\n",
       "    </tr>\n",
       "    <tr>\n",
       "      <th>3</th>\n",
       "      <td>4</td>\n",
       "      <td>1</td>\n",
       "    </tr>\n",
       "    <tr>\n",
       "      <th>4</th>\n",
       "      <td>5</td>\n",
       "      <td>1</td>\n",
       "    </tr>\n",
       "  </tbody>\n",
       "</table>\n",
       "</div>"
      ],
      "text/plain": [
       "   word  freq\n",
       "0     1     7\n",
       "1     2     1\n",
       "2     3    10\n",
       "3     4     1\n",
       "4     5     1"
      ]
     },
     "execution_count": 19,
     "metadata": {},
     "output_type": "execute_result"
    }
   ],
   "source": [
    "df_word_f.head()"
   ]
  },
  {
   "cell_type": "code",
   "execution_count": 20,
   "metadata": {},
   "outputs": [
    {
     "data": {
      "image/png": "[encoded data removed]",
      "text/plain": [
       "<matplotlib.figure.Figure at 0x1a1618b9e8>"
      ]
     },
     "metadata": {},
     "output_type": "display_data"
    }
   ],
   "source": [
    "plt.hist(df_word_f.groupby(['freq']).size(),len(df_word_f['freq'].unique()),histtype='step',\n",
    "         cumulative=1,normed=1,color='red',linewidth=2)\n",
    "plt.xlim(-1, 500)\n",
    "plt.xlabel('# of Documents')\n",
    "plt.ylabel('Cumulatie Word Freq.')\n",
    "plt.show()"
   ]
  },
  {
   "cell_type": "code",
   "execution_count": 21,
   "metadata": {},
   "outputs": [
    {
     "data": {
      "image/png": "[encoded data removed]",
      "text/plain": [
       "<matplotlib.figure.Figure at 0x1a1e369c88>"
      ]
     },
     "metadata": {},
     "output_type": "display_data"
    }
   ],
   "source": [
    "plt.hist(df_word_f.groupby(['freq']).size(),(df_word_f.groupby(['freq']).size()).index[-1],histtype='step',\n",
    "         cumulative=1,normed=1,color='red',linewidth=2)\n",
    "plt.xlim(-1, 500)\n",
    "plt.xlabel('# of Documents')\n",
    "plt.ylabel('Cumulatie Word Freq.')\n",
    "plt.show()"
   ]
  },
  {
   "cell_type": "markdown",
   "metadata": {},
   "source": [
    "Response:\n",
    "From the curve above that plots the cummulative number of words against the total number of documents in which a word apprears $(df)$, we can see that the curve rises steeply just after 0, so the `min_df` will be something that is close to 0, say, 0.001. The curve starts to plateau around 0.2, this might be a good value for `max_df` against As we can see from the above accuracy scores on testing and training data, there is a lot of overfit. So, this classifier needs to be tweaked to improve accuracy"
   ]
  },
  {
   "cell_type": "markdown",
   "metadata": {},
   "source": [
    "The parameter $\\alpha$ is chosen to be a small value that simply avoids having zeros in the probability computations. This value can sometimes be chosen arbitrarily with domain expertise, but we will use K-fold cross validation. In K-fold cross-validation, we divide the data into $K$ non-overlapping parts. We train on $K-1$ of the folds and test on the remaining fold. We then iterate, so that each fold serves as the test fold exactly once. The function `cv_score` performs the K-fold cross-validation algorithm for us, but we need to pass a function that measures the performance of the algorithm on each fold. "
   ]
  },
  {
   "cell_type": "code",
   "execution_count": 22,
   "metadata": {
    "collapsed": true
   },
   "outputs": [],
   "source": [
    "from sklearn.model_selection import KFold\n",
    "def cv_score(clf, X, y, scorefunc):\n",
    "    result = 0.\n",
    "    nfold = 5\n",
    "    for train, test in KFold(nfold).split(X): # split data into train/test groups, 5 times\n",
    "        clf.fit(X[train], y[train]) # fit the classifier, passed is as clf.\n",
    "        result += scorefunc(clf, X[test], y[test]) # evaluate score function on held-out data\n",
    "    return result / nfold # average"
   ]
  },
  {
   "cell_type": "markdown",
   "metadata": {},
   "source": [
    "We use the log-likelihood as the score here in `scorefunc`. The higher the log-likelihood, the better. Indeed, what we do in `cv_score` above is to implement the cross-validation part of `GridSearchCV`.\n",
    "\n",
    "The custom scoring function `scorefunc` allows us to use different metrics depending on the decision risk we care about (precision, accuracy, profit etc.) directly on the validation set. You will often find people using `roc_auc`, precision, recall, or `F1-score` as the scoring function."
   ]
  },
  {
   "cell_type": "code",
   "execution_count": 23,
   "metadata": {
    "collapsed": true
   },
   "outputs": [],
   "source": [
    "def log_likelihood(clf, x, y):\n",
    "    prob = clf.predict_log_proba(x)\n",
    "    rotten = y == 0\n",
    "    fresh = ~rotten\n",
    "    return prob[rotten, 0].sum() + prob[fresh, 1].sum()"
   ]
  },
  {
   "cell_type": "markdown",
   "metadata": {},
   "source": [
    "We'll cross-validate over the regularization parameter $\\alpha$."
   ]
  },
  {
   "cell_type": "markdown",
   "metadata": {},
   "source": [
    "Let's set up the train and test masks first, and then we can run the cross-validation procedure."
   ]
  },
  {
   "cell_type": "code",
   "execution_count": 24,
   "metadata": {},
   "outputs": [
    {
     "name": "stderr",
     "output_type": "stream",
     "text": [
      "/Users/dipanjanbandyopadhyay/anaconda3/lib/python3.6/site-packages/sklearn/model_selection/_split.py:2026: FutureWarning: From version 0.21, test_size will always complement train_size unless both are specified.\n",
      "  FutureWarning)\n"
     ]
    }
   ],
   "source": [
    "from sklearn.model_selection import train_test_split\n",
    "_, itest = train_test_split(range(critics.shape[0]), train_size=0.7)\n",
    "mask = np.zeros(critics.shape[0], dtype=np.bool)\n",
    "mask[itest] = True"
   ]
  },
  {
   "cell_type": "markdown",
   "metadata": {},
   "source": [
    "<div class=\"span5 alert alert-info\">\n",
    "<h3>Exercise Set IV</h3>\n",
    "\n",
    "<p><b>Exercise:</b> What does using the function `log_likelihood` as the score mean? What are we trying to optimize for?</p>\n",
    "\n",
    "<p><b>Exercise:</b> Without writing any code, what do you think would happen if you choose a value of $\\alpha$ that is too high?</p>\n",
    "\n",
    "<p><b>Exercise:</b> Using the skeleton code below, find the best values of the parameter `alpha`, and use the value of `min_df` you chose in the previous exercise set. Use the `cv_score` function above with the `log_likelihood` function for scoring.</p>\n",
    "</div>"
   ]
  },
  {
   "cell_type": "markdown",
   "metadata": {},
   "source": [
    "Response:\n",
    "What does using the function `log_likelihood` as the score mean? What are we trying to optimize for?\n",
    "\n",
    "We are trying to maximize the probability. For example, there may be two models that accurately predits a particular class for a given response, but, we would like to chose the model that gives the higher probability for that class.\n",
    "\n",
    " \n",
    "\n",
    "Without writing any code, what do you think would happen if you choose a value of $\\alpha$ that is too high?\n",
    "\n",
    "$\\alpha$ is a smoothing parameter, at its lowest value, there will be no smoothing, or the model will overfit the training data. If it is too high, the smoothing is going to be very high leading to lower accuracy\n",
    "\n",
    " \n",
    "\n",
    "Using the skeleton code below, find the best values of the parameter `alpha`, and use the value of `min_df` you chose in the previous exercise set. Use the `cv_score` function above with the `log_likelihood` function for scoring.\n",
    "\n",
    "Completed"
   ]
  },
  {
   "cell_type": "code",
   "execution_count": 25,
   "metadata": {},
   "outputs": [
    {
     "name": "stdout",
     "output_type": "stream",
     "text": [
      "alpha: 0.1  min df: 1e-05  score: -951.698327902\n",
      "alpha: 1  min df: 1e-05  score: -720.593766844\n",
      "alpha: 5  min df: 1e-05  score: -1201.44009238\n",
      "alpha: 10  min df: 1e-05  score: -1345.99168887\n",
      "alpha: 50  min df: 1e-05  score: -1307.69037445\n",
      "alpha: 0.1  min df: 0.0001  score: -954.270947723\n",
      "alpha: 1  min df: 0.0001  score: -630.004298126\n",
      "alpha: 5  min df: 0.0001  score: -959.995101587\n",
      "alpha: 10  min df: 0.0001  score: -1164.68471369\n",
      "alpha: 50  min df: 0.0001  score: -1257.75367075\n",
      "alpha: 0.1  min df: 0.0005  score: -854.315005498\n",
      "alpha: 1  min df: 0.0005  score: -598.254715223\n",
      "alpha: 5  min df: 0.0005  score: -615.070340016\n",
      "alpha: 10  min df: 0.0005  score: -769.217195009\n",
      "alpha: 50  min df: 0.0005  score: -1090.07514041\n",
      "alpha: 0.1  min df: 0.0008  score: -783.330182339\n",
      "alpha: 1  min df: 0.0008  score: -596.094875228\n",
      "alpha: 5  min df: 0.0008  score: -568.336173461\n",
      "alpha: 10  min df: 0.0008  score: -659.966701648\n",
      "alpha: 50  min df: 0.0008  score: -999.045833109\n",
      "alpha: 0.1  min df: 0.001  score: -733.288127243\n",
      "alpha: 1  min df: 0.001  score: -589.833192168\n",
      "alpha: 5  min df: 0.001  score: -559.149302264\n",
      "alpha: 10  min df: 0.001  score: -627.202127908\n",
      "alpha: 50  min df: 0.001  score: -956.136712526\n",
      "alpha: 0.1  min df: 0.003  score: -612.714813583\n",
      "alpha: 1  min df: 0.003  score: -589.755747222\n",
      "alpha: 5  min df: 0.003  score: -569.072419928\n",
      "alpha: 10  min df: 0.003  score: -574.289029926\n",
      "alpha: 50  min df: 0.003  score: -744.917544479\n",
      "alpha: 0.1  min df: 0.005  score: -601.207388343\n",
      "alpha: 1  min df: 0.005  score: -594.087994311\n",
      "alpha: 5  min df: 0.005  score: -583.804315122\n",
      "alpha: 10  min df: 0.005  score: -583.318926728\n",
      "alpha: 50  min df: 0.005  score: -671.717859928\n",
      "\n",
      " best alpha: 5 best min df: 0.001  max score -559.149302264\n"
     ]
    }
   ],
   "source": [
    "from sklearn.naive_bayes import MultinomialNB\n",
    "\n",
    "#the grid of parameters to search over\n",
    "alphas = [.1, 1, 5, 10, 50]\n",
    "#min_dfs= [1,5,10,50,60,70,100] ## best 50\n",
    "min_dfs=[0.00001,0.0001,0.0005,0.0008,0.001,0.003,0.005]#best 0.001\n",
    "best_min_df = 0.001 # YOUR TURN: put your value of min_df here.\n",
    "\n",
    "#Find the best value for alpha and min_df, and the best classifier\n",
    "best_alpha = None\n",
    "maxscore=-np.inf\n",
    "for mindf in min_dfs:\n",
    "    for alpha in alphas:        \n",
    "        vectorizer = CountVectorizer(min_df=mindf)       \n",
    "        Xthis, ythis = make_xy(critics, vectorizer)\n",
    "        Xtrainthis = Xthis[mask]\n",
    "        ytrainthis = ythis[mask]\n",
    "        clf = MultinomialNB(alpha=alpha)\n",
    "        score = cv_score(clf,Xtrainthis,ytrainthis,log_likelihood)\n",
    "        print('alpha:',alpha,' min df:',mindf,' score:',score)\n",
    "        if score>maxscore:\n",
    "            maxscore=score\n",
    "            best_alpha=alpha\n",
    "            best_min_df=mindf\n",
    "print('\\n','best alpha:',best_alpha,'best min df:',best_min_df,' max score',maxscore)"
   ]
  },
  {
   "cell_type": "code",
   "execution_count": 26,
   "metadata": {},
   "outputs": [
    {
     "name": "stdout",
     "output_type": "stream",
     "text": [
      "alpha: 0.1 score: -733.288127243\n",
      "alpha: 1 score: -589.833192168\n",
      "alpha: 5 score: -559.149302264\n",
      "alpha: 10 score: -627.202127908\n",
      "alpha: 50 score: -956.136712526\n",
      "\n",
      " best alpha: 5 max score -559.149302264\n"
     ]
    }
   ],
   "source": [
    "from sklearn.naive_bayes import MultinomialNB\n",
    "\n",
    "#the grid of parameters to search over\n",
    "alphas = [.1, 1, 5, 10, 50]\n",
    "best_min_df = 0.001 # YOUR TURN: put your value of min_df here.\n",
    "\n",
    "#Find the best value for alpha and min_df, and the best classifier\n",
    "best_alpha = None\n",
    "maxscore=-np.inf\n",
    "for alpha in alphas:        \n",
    "    vectorizer = CountVectorizer(min_df=best_min_df)       \n",
    "    Xthis, ythis = make_xy(critics, vectorizer)\n",
    "    Xtrainthis = Xthis[mask]\n",
    "    ytrainthis = ythis[mask]\n",
    "    clf = MultinomialNB(alpha=alpha)\n",
    "    score = cv_score(clf,Xtrainthis,ytrainthis,log_likelihood)\n",
    "    print('alpha:',alpha,'score:',score)\n",
    "    if score>maxscore:\n",
    "        maxscore=score\n",
    "        best_alpha=alpha\n",
    "print('\\n','best alpha:',best_alpha,'max score',maxscore)"
   ]
  },
  {
   "cell_type": "code",
   "execution_count": 27,
   "metadata": {},
   "outputs": [
    {
     "name": "stdout",
     "output_type": "stream",
     "text": [
      "alpha: 5\n"
     ]
    }
   ],
   "source": [
    "print(\"alpha: {}\".format(best_alpha))"
   ]
  },
  {
   "cell_type": "code",
   "execution_count": 28,
   "metadata": {
    "collapsed": true
   },
   "outputs": [],
   "source": [
    "logprob = clf.predict_log_proba(Xtrainthis)\n",
    "prob = clf.predict_proba(Xtrainthis)\n",
    "temp_pred_df=pd.DataFrame(clf.predict(Xtrainthis))\n",
    "temp_pred_df.columns=['Prediction']\n",
    "temp_pred_df['class0LogProb']=logprob[:,0]\n",
    "temp_pred_df['class1LogProb']=logprob[:,1]\n",
    "temp_pred_df['class0Prob']=prob[:,0]\n",
    "temp_pred_df['class1Prob']=prob[:,1]"
   ]
  },
  {
   "cell_type": "code",
   "execution_count": 29,
   "metadata": {},
   "outputs": [
    {
     "data": {
      "text/html": [
       "<div>\n",
       "<style>\n",
       "    .dataframe thead tr:only-child th {\n",
       "        text-align: right;\n",
       "    }\n",
       "\n",
       "    .dataframe thead th {\n",
       "        text-align: left;\n",
       "    }\n",
       "\n",
       "    .dataframe tbody tr th {\n",
       "        vertical-align: top;\n",
       "    }\n",
       "</style>\n",
       "<table border=\"1\" class=\"dataframe\">\n",
       "  <thead>\n",
       "    <tr style=\"text-align: right;\">\n",
       "      <th></th>\n",
       "      <th>Prediction</th>\n",
       "      <th>class0LogProb</th>\n",
       "      <th>class1LogProb</th>\n",
       "      <th>class0Prob</th>\n",
       "      <th>class1Prob</th>\n",
       "    </tr>\n",
       "  </thead>\n",
       "  <tbody>\n",
       "    <tr>\n",
       "      <th>446</th>\n",
       "      <td>0</td>\n",
       "      <td>-0.541031</td>\n",
       "      <td>-0.872627</td>\n",
       "      <td>0.582148</td>\n",
       "      <td>0.417852</td>\n",
       "    </tr>\n",
       "    <tr>\n",
       "      <th>487</th>\n",
       "      <td>0</td>\n",
       "      <td>-0.583144</td>\n",
       "      <td>-0.816765</td>\n",
       "      <td>0.558141</td>\n",
       "      <td>0.441859</td>\n",
       "    </tr>\n",
       "    <tr>\n",
       "      <th>545</th>\n",
       "      <td>0</td>\n",
       "      <td>-0.678394</td>\n",
       "      <td>-0.708121</td>\n",
       "      <td>0.507431</td>\n",
       "      <td>0.492569</td>\n",
       "    </tr>\n",
       "    <tr>\n",
       "      <th>688</th>\n",
       "      <td>0</td>\n",
       "      <td>-0.385312</td>\n",
       "      <td>-1.140179</td>\n",
       "      <td>0.680238</td>\n",
       "      <td>0.319762</td>\n",
       "    </tr>\n",
       "    <tr>\n",
       "      <th>941</th>\n",
       "      <td>0</td>\n",
       "      <td>-0.380254</td>\n",
       "      <td>-1.151024</td>\n",
       "      <td>0.683687</td>\n",
       "      <td>0.316313</td>\n",
       "    </tr>\n",
       "    <tr>\n",
       "      <th>1032</th>\n",
       "      <td>0</td>\n",
       "      <td>-0.573077</td>\n",
       "      <td>-0.829627</td>\n",
       "      <td>0.563788</td>\n",
       "      <td>0.436212</td>\n",
       "    </tr>\n",
       "    <tr>\n",
       "      <th>1178</th>\n",
       "      <td>0</td>\n",
       "      <td>-0.581508</td>\n",
       "      <td>-0.818835</td>\n",
       "      <td>0.559055</td>\n",
       "      <td>0.440945</td>\n",
       "    </tr>\n",
       "    <tr>\n",
       "      <th>1254</th>\n",
       "      <td>0</td>\n",
       "      <td>-0.648894</td>\n",
       "      <td>-0.739450</td>\n",
       "      <td>0.522624</td>\n",
       "      <td>0.477376</td>\n",
       "    </tr>\n",
       "    <tr>\n",
       "      <th>1489</th>\n",
       "      <td>0</td>\n",
       "      <td>-0.608987</td>\n",
       "      <td>-0.785046</td>\n",
       "      <td>0.543901</td>\n",
       "      <td>0.456099</td>\n",
       "    </tr>\n",
       "    <tr>\n",
       "      <th>1490</th>\n",
       "      <td>0</td>\n",
       "      <td>-0.563672</td>\n",
       "      <td>-0.841915</td>\n",
       "      <td>0.569115</td>\n",
       "      <td>0.430885</td>\n",
       "    </tr>\n",
       "  </tbody>\n",
       "</table>\n",
       "</div>"
      ],
      "text/plain": [
       "      Prediction  class0LogProb  class1LogProb  class0Prob  class1Prob\n",
       "446            0      -0.541031      -0.872627    0.582148    0.417852\n",
       "487            0      -0.583144      -0.816765    0.558141    0.441859\n",
       "545            0      -0.678394      -0.708121    0.507431    0.492569\n",
       "688            0      -0.385312      -1.140179    0.680238    0.319762\n",
       "941            0      -0.380254      -1.151024    0.683687    0.316313\n",
       "1032           0      -0.573077      -0.829627    0.563788    0.436212\n",
       "1178           0      -0.581508      -0.818835    0.559055    0.440945\n",
       "1254           0      -0.648894      -0.739450    0.522624    0.477376\n",
       "1489           0      -0.608987      -0.785046    0.543901    0.456099\n",
       "1490           0      -0.563672      -0.841915    0.569115    0.430885"
      ]
     },
     "execution_count": 29,
     "metadata": {},
     "output_type": "execute_result"
    }
   ],
   "source": [
    "temp_pred_df[(temp_pred_df.Prediction==0)].head(10)"
   ]
  },
  {
   "cell_type": "code",
   "execution_count": 30,
   "metadata": {},
   "outputs": [
    {
     "data": {
      "text/html": [
       "<div>\n",
       "<style>\n",
       "    .dataframe thead tr:only-child th {\n",
       "        text-align: right;\n",
       "    }\n",
       "\n",
       "    .dataframe thead th {\n",
       "        text-align: left;\n",
       "    }\n",
       "\n",
       "    .dataframe tbody tr th {\n",
       "        vertical-align: top;\n",
       "    }\n",
       "</style>\n",
       "<table border=\"1\" class=\"dataframe\">\n",
       "  <thead>\n",
       "    <tr style=\"text-align: right;\">\n",
       "      <th></th>\n",
       "      <th>Prediction</th>\n",
       "      <th>class0LogProb</th>\n",
       "      <th>class1LogProb</th>\n",
       "      <th>class0Prob</th>\n",
       "      <th>class1Prob</th>\n",
       "    </tr>\n",
       "  </thead>\n",
       "  <tbody>\n",
       "    <tr>\n",
       "      <th>0</th>\n",
       "      <td>1</td>\n",
       "      <td>-1.747075</td>\n",
       "      <td>-0.191503</td>\n",
       "      <td>0.174283</td>\n",
       "      <td>0.825717</td>\n",
       "    </tr>\n",
       "    <tr>\n",
       "      <th>1</th>\n",
       "      <td>1</td>\n",
       "      <td>-4.568625</td>\n",
       "      <td>-0.010426</td>\n",
       "      <td>0.010372</td>\n",
       "      <td>0.989628</td>\n",
       "    </tr>\n",
       "    <tr>\n",
       "      <th>2</th>\n",
       "      <td>1</td>\n",
       "      <td>-1.208985</td>\n",
       "      <td>-0.354534</td>\n",
       "      <td>0.298500</td>\n",
       "      <td>0.701500</td>\n",
       "    </tr>\n",
       "    <tr>\n",
       "      <th>3</th>\n",
       "      <td>1</td>\n",
       "      <td>-0.845746</td>\n",
       "      <td>-0.560781</td>\n",
       "      <td>0.429237</td>\n",
       "      <td>0.570763</td>\n",
       "    </tr>\n",
       "    <tr>\n",
       "      <th>4</th>\n",
       "      <td>1</td>\n",
       "      <td>-3.159176</td>\n",
       "      <td>-0.043389</td>\n",
       "      <td>0.042461</td>\n",
       "      <td>0.957539</td>\n",
       "    </tr>\n",
       "    <tr>\n",
       "      <th>5</th>\n",
       "      <td>1</td>\n",
       "      <td>-1.122486</td>\n",
       "      <td>-0.393739</td>\n",
       "      <td>0.325470</td>\n",
       "      <td>0.674530</td>\n",
       "    </tr>\n",
       "    <tr>\n",
       "      <th>6</th>\n",
       "      <td>1</td>\n",
       "      <td>-2.952366</td>\n",
       "      <td>-0.053629</td>\n",
       "      <td>0.052216</td>\n",
       "      <td>0.947784</td>\n",
       "    </tr>\n",
       "    <tr>\n",
       "      <th>7</th>\n",
       "      <td>1</td>\n",
       "      <td>-2.025783</td>\n",
       "      <td>-0.141437</td>\n",
       "      <td>0.131891</td>\n",
       "      <td>0.868109</td>\n",
       "    </tr>\n",
       "    <tr>\n",
       "      <th>8</th>\n",
       "      <td>1</td>\n",
       "      <td>-5.283902</td>\n",
       "      <td>-0.005086</td>\n",
       "      <td>0.005073</td>\n",
       "      <td>0.994927</td>\n",
       "    </tr>\n",
       "    <tr>\n",
       "      <th>9</th>\n",
       "      <td>1</td>\n",
       "      <td>-2.456042</td>\n",
       "      <td>-0.089677</td>\n",
       "      <td>0.085774</td>\n",
       "      <td>0.914226</td>\n",
       "    </tr>\n",
       "  </tbody>\n",
       "</table>\n",
       "</div>"
      ],
      "text/plain": [
       "   Prediction  class0LogProb  class1LogProb  class0Prob  class1Prob\n",
       "0           1      -1.747075      -0.191503    0.174283    0.825717\n",
       "1           1      -4.568625      -0.010426    0.010372    0.989628\n",
       "2           1      -1.208985      -0.354534    0.298500    0.701500\n",
       "3           1      -0.845746      -0.560781    0.429237    0.570763\n",
       "4           1      -3.159176      -0.043389    0.042461    0.957539\n",
       "5           1      -1.122486      -0.393739    0.325470    0.674530\n",
       "6           1      -2.952366      -0.053629    0.052216    0.947784\n",
       "7           1      -2.025783      -0.141437    0.131891    0.868109\n",
       "8           1      -5.283902      -0.005086    0.005073    0.994927\n",
       "9           1      -2.456042      -0.089677    0.085774    0.914226"
      ]
     },
     "execution_count": 30,
     "metadata": {},
     "output_type": "execute_result"
    }
   ],
   "source": [
    "temp_pred_df[(temp_pred_df.Prediction==1)].head(10)"
   ]
  },
  {
   "cell_type": "markdown",
   "metadata": {},
   "source": [
    "<div class=\"span5 alert alert-info\">\n",
    "<h3>Exercise Set V: Working with the Best Parameters</h3>\n",
    "\n",
    "<p><b>Exercise:</b> Using the best value of  `alpha` you just found, calculate the accuracy on the training and test sets. Is this classifier better? Why (not)?</p>\n",
    "\n",
    "</div>"
   ]
  },
  {
   "cell_type": "code",
   "execution_count": 31,
   "metadata": {},
   "outputs": [
    {
     "name": "stdout",
     "output_type": "stream",
     "text": [
      "Accuracy on training data: 0.803170\n",
      "Accuracy on test data:     0.719978\n"
     ]
    }
   ],
   "source": [
    "vectorizer = CountVectorizer(min_df=best_min_df)\n",
    "X, y = make_xy(critics, vectorizer)\n",
    "xtrain=X[mask]\n",
    "ytrain=y[mask]\n",
    "xtest=X[~mask]\n",
    "ytest=y[~mask]\n",
    "\n",
    "clf = MultinomialNB(alpha=best_alpha).fit(xtrain, ytrain)\n",
    "\n",
    "#your turn. Print the accuracy on the test and training dataset\n",
    "training_accuracy = clf.score(xtrain, ytrain)\n",
    "test_accuracy = clf.score(xtest, ytest)\n",
    "\n",
    "print(\"Accuracy on training data: {:2f}\".format(training_accuracy))\n",
    "print(\"Accuracy on test data:     {:2f}\".format(test_accuracy))"
   ]
  },
  {
   "cell_type": "code",
   "execution_count": 32,
   "metadata": {},
   "outputs": [
    {
     "name": "stdout",
     "output_type": "stream",
     "text": [
      "[[2139 2108]\n",
      " [ 942 5703]]\n"
     ]
    }
   ],
   "source": [
    "from sklearn.metrics import confusion_matrix\n",
    "print(confusion_matrix(ytest, clf.predict(xtest)))"
   ]
  },
  {
   "cell_type": "markdown",
   "metadata": {},
   "source": [
    "The accuracy of this classifier is less than the original model. However, this is less overfit than the original model\n"
   ]
  },
  {
   "cell_type": "markdown",
   "metadata": {},
   "source": [
    "## Interpretation"
   ]
  },
  {
   "cell_type": "markdown",
   "metadata": {},
   "source": [
    "### What are the strongly predictive features?\n",
    "\n",
    "We use a neat trick to identify strongly predictive features (i.e. words). \n",
    "\n",
    "* first, create a data set such that each row has exactly one feature. This is represented by the identity matrix.\n",
    "* use the trained classifier to make predictions on this matrix\n",
    "* sort the rows by predicted probabilities, and pick the top and bottom $K$ rows"
   ]
  },
  {
   "cell_type": "code",
   "execution_count": 33,
   "metadata": {},
   "outputs": [
    {
     "name": "stdout",
     "output_type": "stream",
     "text": [
      "Good words\t     P(fresh | word)\n",
      "           excellent 0.84\n",
      "         intelligent 0.84\n",
      "               great 0.84\n",
      "            touching 0.84\n",
      "         masterpiece 0.83\n",
      "               gives 0.83\n",
      "           effective 0.83\n",
      "               smart 0.83\n",
      "        entertaining 0.83\n",
      "           wonderful 0.82\n",
      "Bad words\t     P(fresh | word)\n",
      "                 bad 0.29\n",
      "           pointless 0.28\n",
      "              cliche 0.28\n",
      "               fails 0.28\n",
      "               flick 0.27\n",
      "               bland 0.27\n",
      "                  tv 0.26\n",
      "                dull 0.26\n",
      "       unfortunately 0.26\n",
      "                lame 0.23\n"
     ]
    }
   ],
   "source": [
    "words = np.array(vectorizer.get_feature_names())\n",
    "\n",
    "x = np.eye(xtest.shape[1])\n",
    "probs = clf.predict_log_proba(x)[:, 0]\n",
    "ind = np.argsort(probs)\n",
    "\n",
    "good_words = words[ind[:10]]\n",
    "bad_words = words[ind[-10:]]\n",
    "\n",
    "good_prob = probs[ind[:10]]\n",
    "bad_prob = probs[ind[-10:]]\n",
    "\n",
    "print(\"Good words\\t     P(fresh | word)\")\n",
    "for w, p in zip(good_words, good_prob):\n",
    "    print(\"{:>20}\".format(w), \"{:.2f}\".format(1 - np.exp(p)))\n",
    "    \n",
    "print(\"Bad words\\t     P(fresh | word)\")\n",
    "for w, p in zip(bad_words, bad_prob):\n",
    "    print(\"{:>20}\".format(w), \"{:.2f}\".format(1 - np.exp(p)))"
   ]
  },
  {
   "cell_type": "markdown",
   "metadata": {},
   "source": [
    "<div class=\"span5 alert alert-info\">\n",
    "<h3>Exercise Set VI</h3>\n",
    "\n",
    "<p><b>Exercise:</b> Why does this method work? What does the probability for each row in the identity matrix represent</p>\n",
    "\n",
    "</div>"
   ]
  },
  {
   "cell_type": "markdown",
   "metadata": {},
   "source": [
    "Response:\n",
    "This method builds a review with just one word and tries to classify the review based on that one word. The probability for each row gives the probability that the review will be classified as $fresh$ or $rotten$\n"
   ]
  },
  {
   "cell_type": "markdown",
   "metadata": {},
   "source": [
    "The above exercise is an example of *feature selection*. There are many other feature selection methods. A list of feature selection methods available in `sklearn` is [here](http://scikit-learn.org/stable/modules/classes.html#module-sklearn.feature_selection). The most common feature selection technique for text mining is the chi-squared $\\left( \\chi^2 \\right)$ [method](http://nlp.stanford.edu/IR-book/html/htmledition/feature-selectionchi2-feature-selection-1.html)."
   ]
  },
  {
   "cell_type": "markdown",
   "metadata": {},
   "source": [
    "### Prediction Errors\n",
    "\n",
    "We can see mis-predictions as well."
   ]
  },
  {
   "cell_type": "code",
   "execution_count": 34,
   "metadata": {},
   "outputs": [
    {
     "name": "stdout",
     "output_type": "stream",
     "text": [
      "Mis-predicted Rotten quotes\n",
      "---------------------------\n",
      "While Leone's vision still has a magnificent sweep, the film finally subsides to an emotional core that is sombre, even elegiac, and which centres on a man who is bent and broken by time, and finally left with nothing but an impotent sadness.\n",
      "\n",
      "It survives today only as an unusually pure example of a typical 50s art-film strategy: the attempt to make the most modern and most popular of art forms acceptable to the intelligentsia by forcing it into an arcane, antique mold.\n",
      "\n",
      "Herzog offers some evidence of Kinski's great human warmth, somewhat more of his rage of unimaginable proportions, and a good demonstration of Kinski's uncanny capacity to corkscrew his way into the frame.\n",
      "\n",
      "With its feints at horror and pathos, the third Star Wars film is the most Disney-esque in its emotional outline, yet that outline is buried beneath an obnoxiously hyped-up pace that reduces the emotions to rubble.\n",
      "\n",
      "Alfred Hitchcock's 1966 spy thriller has one of the lowest reputations of his late works. Coming after a masterpiece like Marnie, it almost had to be a disappointment. But Hitchcock was incapable of making an uninteresting film.\n",
      "\n",
      "Mis-predicted Fresh quotes\n",
      "--------------------------\n",
      "A good half-hour's worth of nonsense in the middle keeps Bad Boys from being little better than a break- even proposition.\n",
      "\n",
      "Some of the gags don't work, but fewer than in any previous Brooks film that I've seen, and when the jokes are meant to be bad, they are riotously poor. What more can one ask of Mel Brooks?\n",
      "\n",
      "The gangland plot is flimsy (bad guy Peter Greene wears too much eyeliner), and the jokes are erratic, but it's a far better showcase for Carrey's comic-from-Uranus talent than Ace Ventura.\n",
      "\n",
      "Though it's a good half hour too long, this overblown 1993 spin-off of the 60s TV show otherwise adds up to a pretty good suspense thriller.\n",
      "\n",
      "This tough-to-peg whodunit keeps you going for two hours, despite a few James Bond-ish (or Jane Bond-ish) turns that play less preposterously than you might assume were they to be divulged.\n",
      "\n"
     ]
    }
   ],
   "source": [
    "x, y = make_xy(critics, vectorizer)\n",
    "\n",
    "prob = clf.predict_proba(x)[:, 0]\n",
    "predict = clf.predict(x)\n",
    "\n",
    "bad_rotten = np.argsort(prob[y == 0])[:5]\n",
    "bad_fresh = np.argsort(prob[y == 1])[-5:]\n",
    "\n",
    "print(\"Mis-predicted Rotten quotes\")\n",
    "print('---------------------------')\n",
    "for row in bad_rotten:\n",
    "    print(critics[y == 0].quote.iloc[row])\n",
    "    print(\"\")\n",
    "\n",
    "print(\"Mis-predicted Fresh quotes\")\n",
    "print('--------------------------')\n",
    "for row in bad_fresh:\n",
    "    print(critics[y == 1].quote.iloc[row])\n",
    "    print(\"\")"
   ]
  },
  {
   "cell_type": "markdown",
   "metadata": {},
   "source": [
    "<div class=\"span5 alert alert-info\">\n",
    "<h3>Exercise Set VII: Predicting the Freshness for a New Review</h3>\n",
    "<br/>\n",
    "<div>\n",
    "<b>Exercise:</b>\n",
    "<ul>\n",
    "<li> Using your best trained classifier, predict the freshness of the following sentence: *'This movie is not remarkable, touching, or superb in any way'*\n",
    "<li> Is the result what you'd expect? Why (not)?\n",
    "</ul>\n",
    "</div>\n",
    "</div>"
   ]
  },
  {
   "cell_type": "code",
   "execution_count": 35,
   "metadata": {},
   "outputs": [
    {
     "name": "stdout",
     "output_type": "stream",
     "text": [
      "Review - \n",
      " ['This movie is not remarkable, touching, or superb in any way'] \n",
      "\n",
      "predicted as Fresh with a probability of  91.28\n",
      "--------------------------------- \n",
      "\n",
      "Review - \n",
      " ['This movie is uninspired, bad and has been the worst movie that i have ever seen'] \n",
      "\n",
      "predicted as Rotten with a probability of  91.32\n",
      "--------------------------------- \n",
      "\n"
     ]
    }
   ],
   "source": [
    "string = ['This movie is not remarkable, touching, or superb in any way']\n",
    "x_test_q7 = vectorizer.transform(string)\n",
    "print('Review -','\\n',string,'\\n')\n",
    "if clf.predict(x_test_q7)[0]==1:\n",
    "    print('predicted as Fresh with a probability of  %2.2f' %(100*clf.predict_proba(x_test_q7)[0,1]))\n",
    "else:\n",
    "    print('predicted as Rotten with a probability of  %2.2f' %(100*clf.predict_proba(x_test_q7)[0,0]))\n",
    "print('---------------------------------','\\n')\n",
    "        \n",
    "#lets check what happens if we include a lot of 'Bad' words like uninspired, bad, worst\n",
    "string_another_review = ['This movie is uninspired, bad and has been the worst movie that i have ever seen']\n",
    "x_test_q7_2 = vectorizer.transform(string_another_review)\n",
    "print('Review -','\\n',string_another_review,'\\n')\n",
    "if clf.predict(x_test_q7_2)[0]==1:\n",
    "    print('predicted as Fresh with a probability of  %2.2f' %(100*clf.predict_proba(x_test_q7_2)[0,1]))\n",
    "else:\n",
    "    print('predicted as Rotten with a probability of  %2.2f' %(100*clf.predict_proba(x_test_q7_2)[0,0]))\n",
    "print('---------------------------------','\\n')"
   ]
  },
  {
   "cell_type": "markdown",
   "metadata": {},
   "source": [
    "Response:\n",
    "The given review should have been classified as $Rotten$, given what the critic has said about the movie. The critic has slammed the movie by saying that the movie is the opposite of all good things about a movie. However, the classifier has classified this as a $Fresh$ movie, because it contains a lot of Good words, or strong words that make the model classify the review as $Fresh$\n",
    "\n"
   ]
  },
  {
   "cell_type": "code",
   "execution_count": null,
   "metadata": {
    "collapsed": true
   },
   "outputs": [],
   "source": []
  },
  {
   "cell_type": "code",
   "execution_count": null,
   "metadata": {
    "collapsed": true
   },
   "outputs": [],
   "source": []
  },
  {
   "cell_type": "markdown",
   "metadata": {},
   "source": [
    "\n",
    "Response:\n",
    "Below is an implementation of Naive Bayes with n-grams.This uses 1,2 n-grams"
   ]
  },
  {
   "cell_type": "markdown",
   "metadata": {},
   "source": [
    "### Aside: TF-IDF Weighting for Term Importance\n",
    "\n",
    "TF-IDF stands for \n",
    "\n",
    "`Term-Frequency X Inverse Document Frequency`.\n",
    "\n",
    "In the standard `CountVectorizer` model above, we used just the term frequency in a document of words in our vocabulary. In TF-IDF, we weight this term frequency by the inverse of its popularity in all documents. For example, if the word \"movie\" showed up in all the documents, it would not have much predictive value. It could actually be considered a stopword. By weighing its counts by 1 divided by its overall frequency, we downweight it. We can then use this TF-IDF weighted features as inputs to any classifier. **TF-IDF is essentially a measure of term importance, and of how discriminative a word is in a corpus.** There are a variety of nuances involved in computing TF-IDF, mainly involving where to add the smoothing term to avoid division by 0, or log of 0 errors. The formula for TF-IDF in `scikit-learn` differs from that of most textbooks: \n",
    "\n",
    "$$\\mbox{TF-IDF}(t, d) = \\mbox{TF}(t, d)\\times \\mbox{IDF}(t) = n_{td} \\log{\\left( \\frac{\\vert D \\vert}{\\vert d : t \\in d \\vert} + 1 \\right)}$$\n",
    "\n",
    "where $n_{td}$ is the number of times term $t$ occurs in document $d$, $\\vert D \\vert$ is the number of documents, and $\\vert d : t \\in d \\vert$ is the number of documents that contain $t$"
   ]
  },
  {
   "cell_type": "code",
   "execution_count": 36,
   "metadata": {
    "collapsed": true
   },
   "outputs": [],
   "source": [
    "# http://scikit-learn.org/dev/modules/feature_extraction.html#text-feature-extraction\n",
    "# http://scikit-learn.org/dev/modules/classes.html#text-feature-extraction-ref\n",
    "from sklearn.feature_extraction.text import TfidfVectorizer\n",
    "tfidfvectorizer = TfidfVectorizer(min_df=1, stop_words='english')\n",
    "Xtfidf=tfidfvectorizer.fit_transform(critics.quote)"
   ]
  },
  {
   "cell_type": "markdown",
   "metadata": {},
   "source": [
    "<div class=\"span5 alert alert-info\">\n",
    "<h3>Exercise Set VIII: Enrichment</h3>\n",
    "\n",
    "<p>\n",
    "There are several additional things we could try. Try some of these as exercises:\n",
    "<ol>\n",
    "<li> Build a Naive Bayes model where the features are n-grams instead of words. N-grams are phrases containing n words next to each other: a bigram contains 2 words, a trigram contains 3 words, and 6-gram contains 6 words. This is useful because \"not good\" and \"so good\" mean very different things. On the other hand, as n increases, the model does not scale well since the feature set becomes more sparse.\n",
    "<li> Try a model besides Naive Bayes, one that would allow for interactions between words -- for example, a Random Forest classifier.\n",
    "<li> Try adding supplemental features -- information about genre, director, cast, etc.\n",
    "<li> Use word2vec or [Latent Dirichlet Allocation](https://en.wikipedia.org/wiki/Latent_Dirichlet_allocation) to group words into topics and use those topics for prediction.\n",
    "<li> Use TF-IDF weighting instead of word counts.\n",
    "</ol>\n",
    "</p>\n",
    "\n",
    "<b>Exercise:</b> Try a few of these ideas to improve the model (or any other ideas of your own). Implement here and report on the result.\n",
    "</div>"
   ]
  },
  {
   "cell_type": "code",
   "execution_count": 37,
   "metadata": {
    "collapsed": true
   },
   "outputs": [],
   "source": [
    "\n",
    "#your turn\n",
    "def clf_score(clf, x, y):\n",
    "    score = clf.score(x,y)\n",
    "    return score"
   ]
  },
  {
   "cell_type": "code",
   "execution_count": 38,
   "metadata": {
    "collapsed": true
   },
   "outputs": [],
   "source": [
    "def find_good_bad_words(vctrzr,clfr):\n",
    "    words = np.array(vctrzr.get_feature_names())\n",
    "    x = np.eye(len(words))\n",
    "    probs = clfr.predict_log_proba(x)[:, 0]\n",
    "    ind = np.argsort(probs)\n",
    "\n",
    "    good_words = words[ind[:10]]\n",
    "    bad_words = words[ind[-10:]]\n",
    "\n",
    "    good_prob = probs[ind[:10]]\n",
    "    bad_prob = probs[ind[-10:]]\n",
    "    print(\"Good words\\t     P(fresh | word)\")\n",
    "    for w, p in zip(good_words, good_prob):\n",
    "        print(\"{:>20}\".format(w), \"{:.2f}\".format(1 - np.exp(p)))\n",
    "\n",
    "    print(\"Bad words\\t     P(fresh | word)\")\n",
    "    for w, p in zip(bad_words, bad_prob):\n",
    "        print(\"{:>20}\".format(w), \"{:.2f}\".format(1 - np.exp(p)))\n"
   ]
  },
  {
   "cell_type": "markdown",
   "metadata": {},
   "source": [
    "Response:\n",
    "Below is an implementation of Naive Bayes with n-grams.This uses 1,2 n-grams\n"
   ]
  },
  {
   "cell_type": "code",
   "execution_count": 39,
   "metadata": {},
   "outputs": [
    {
     "name": "stdout",
     "output_type": "stream",
     "text": [
      "alpha : 1  min_df : 0  score : 0.696933976879\n",
      "alpha : 1  min_df : 9e-05  score : 0.727136794802\n",
      "alpha : 1  min_df : 0.0001  score : 0.727136794802\n",
      "alpha : 1  min_df : 0.001  score : 0.719212046517\n",
      "alpha : 1  min_df : 0.005  score : 0.675518176039\n",
      "alpha : 1  min_df : 0.01  score : 0.657524138707\n",
      "alpha : 5  min_df : 0  score : 0.623466931062\n",
      "alpha : 5  min_df : 9e-05  score : 0.639744004627\n",
      "alpha : 5  min_df : 0.0001  score : 0.639744004627\n",
      "alpha : 5  min_df : 0.001  score : 0.704856889085\n",
      "alpha : 5  min_df : 0.005  score : 0.671448735515\n",
      "alpha : 5  min_df : 0.01  score : 0.654739265247\n",
      "alpha : 10  min_df : 0  score : 0.614042564911\n",
      "alpha : 10  min_df : 9e-05  score : 0.617897643163\n",
      "alpha : 10  min_df : 0.0001  score : 0.617897643163\n",
      "alpha : 10  min_df : 0.001  score : 0.674013967974\n",
      "alpha : 10  min_df : 0.005  score : 0.671233225693\n",
      "alpha : 10  min_df : 0.01  score : 0.651955309827\n",
      "alpha : 50  min_df : 0  score : 0.608259373759\n",
      "alpha : 50  min_df : 9e-05  score : 0.608473506522\n",
      "alpha : 50  min_df : 0.0001  score : 0.608473506522\n",
      "alpha : 50  min_df : 0.001  score : 0.61211491103\n",
      "alpha : 50  min_df : 0.005  score : 0.626249738932\n",
      "alpha : 50  min_df : 0.01  score : 0.641244540533\n",
      "-----------------\n",
      "best alpha: 1 best min-df: 9e-05 best score: 0.727136794802\n"
     ]
    }
   ],
   "source": [
    "from sklearn.naive_bayes import MultinomialNB\n",
    "\n",
    "alphas = [1,5,10,50]\n",
    "ngrm_min_df = [0,0.00009,0.0001,0.001,0.005,0.01]\n",
    "best_score=-np.inf\n",
    "best_alpha, best_min_df = None, None\n",
    "for alpha in alphas:\n",
    "    for min_df in ngrm_min_df:\n",
    "        vectorizer_n2 = CountVectorizer(min_df=min_df,ngram_range=(1, 2),token_pattern=r'\\b\\w+\\b')       \n",
    "        #vectorizer_n2 = CountVectorizer(min_df=min_df)       \n",
    "        Xthis, ythis = make_xy(critics, vectorizer_n2)\n",
    "        Xtrainthis = Xthis[mask]\n",
    "        ytrainthis = ythis[mask]\n",
    "        clf = MultinomialNB(alpha=alpha)\n",
    "        score = cv_score(clf,Xtrainthis,ytrainthis,clf_score)\n",
    "        print('alpha :',alpha,' min_df :',min_df,' score :',score)\n",
    "        if score > best_score:\n",
    "            best_score=score\n",
    "            best_alpha = alpha\n",
    "            best_min_df = min_df\n",
    "\n",
    "print('-----------------')\n",
    "print('best alpha:',best_alpha,'best min-df:',best_min_df,'best score:',best_score)"
   ]
  },
  {
   "cell_type": "code",
   "execution_count": 40,
   "metadata": {},
   "outputs": [
    {
     "name": "stdout",
     "output_type": "stream",
     "text": [
      "Accuracy on training data: 0.976440\n",
      "Accuracy on test data:     0.743941\n"
     ]
    }
   ],
   "source": [
    "vectorizer_n2 = CountVectorizer(min_df=best_min_df,ngram_range=(1, 2),token_pattern=r'\\b\\w+\\b')  \n",
    "#vectorizer_n2 = CountVectorizer(min_df=0.001,ngram_range=(1, 2),token_pattern=r'\\b\\w+\\b')  \n",
    "#vectorizer_n2 = CountVectorizer(min_df=0.001)  \n",
    "X, y = make_xy(critics, vectorizer_n2)\n",
    "xtrain=X[mask]\n",
    "ytrain=y[mask]\n",
    "xtest=X[~mask]\n",
    "ytest=y[~mask]\n",
    "\n",
    "clf = MultinomialNB(alpha=best_alpha).fit(xtrain, ytrain)\n",
    "#clf = MultinomialNB(alpha=5).fit(xtrain, ytrain)\n",
    "\n",
    "#your turn. Print the accuracy on the test and training dataset\n",
    "training_accuracy = clf.score(xtrain, ytrain)\n",
    "test_accuracy = clf.score(xtest, ytest)\n",
    "\n",
    "print(\"Accuracy on training data: {:2f}\".format(training_accuracy))\n",
    "print(\"Accuracy on test data:     {:2f}\".format(test_accuracy))"
   ]
  },
  {
   "cell_type": "code",
   "execution_count": 41,
   "metadata": {},
   "outputs": [
    {
     "name": "stdout",
     "output_type": "stream",
     "text": [
      "Good words\t     P(fresh | word)\n",
      "            touching 0.96\n",
      "             a sweet 0.95\n",
      "              finest 0.95\n",
      "             delight 0.95\n",
      "         a wonderful 0.94\n",
      "              of our 0.94\n",
      "              richly 0.94\n",
      "             that we 0.94\n",
      "            haunting 0.94\n",
      "            intimate 0.94\n",
      "Bad words\t     P(fresh | word)\n",
      "              has no 0.13\n",
      "                save 0.12\n",
      "            not very 0.12\n",
      "             tedious 0.12\n",
      "            annoying 0.12\n",
      "               hated 0.11\n",
      "              cliche 0.11\n",
      "           pointless 0.11\n",
      "               bland 0.10\n",
      "                lame 0.07\n"
     ]
    }
   ],
   "source": [
    "find_good_bad_words(vectorizer_n2,clf)"
   ]
  },
  {
   "cell_type": "markdown",
   "metadata": {},
   "source": [
    "Response:\n",
    "Below is an implementation of Random Forest Classifier with n-grams.This uses 1,2 n-grams"
   ]
  },
  {
   "cell_type": "code",
   "execution_count": 42,
   "metadata": {},
   "outputs": [
    {
     "name": "stderr",
     "output_type": "stream",
     "text": [
      "/Users/dipanjanbandyopadhyay/anaconda3/lib/python3.6/site-packages/sklearn/cross_validation.py:41: DeprecationWarning: This module was deprecated in version 0.18 in favor of the model_selection module into which all the refactored classes and functions are moved. Also note that the interface of the new CV iterators are different from that of this module. This module will be removed in 0.20.\n",
      "  \"This module will be removed in 0.20.\", DeprecationWarning)\n",
      "/Users/dipanjanbandyopadhyay/anaconda3/lib/python3.6/site-packages/sklearn/grid_search.py:42: DeprecationWarning: This module was deprecated in version 0.18 in favor of the model_selection module into which all the refactored classes and functions are moved. This module will be removed in 0.20.\n",
      "  DeprecationWarning)\n"
     ]
    },
    {
     "name": "stdout",
     "output_type": "stream",
     "text": [
      "-------min_df: 1e-05\n",
      "***best estimator: RandomForestClassifier(bootstrap=True, class_weight=None, criterion='gini',\n",
      "            max_depth=None, max_features='auto', max_leaf_nodes=None,\n",
      "            min_impurity_decrease=0.0, min_impurity_split=None,\n",
      "            min_samples_leaf=1, min_samples_split=2,\n",
      "            min_weight_fraction_leaf=0.0, n_estimators=20, n_jobs=1,\n",
      "            oob_score=False, random_state=None, verbose=0,\n",
      "            warm_start=False)\n",
      "***best params: {'max_features': 'auto', 'n_estimators': 20}\n",
      "***best score: 0.652816448918398\n",
      "***grid scores: [mean: 0.64896, std: 0.01643, params: {'max_features': 'auto', 'n_estimators': 10}, mean: 0.65282, std: 0.00968, params: {'max_features': 'auto', 'n_estimators': 20}, mean: 0.64082, std: 0.00386, params: {'max_features': 'auto', 'n_estimators': 40}, mean: 0.63997, std: 0.01071, params: {'max_features': 'auto', 'n_estimators': 50}, mean: 0.63868, std: 0.01050, params: {'max_features': 'auto', 'n_estimators': 60}, mean: 0.63675, std: 0.00429, params: {'max_features': 'auto', 'n_estimators': 70}, mean: 0.64168, std: 0.01203, params: {'max_features': 'sqrt', 'n_estimators': 10}, mean: 0.64232, std: 0.00678, params: {'max_features': 'sqrt', 'n_estimators': 20}, mean: 0.64039, std: 0.01227, params: {'max_features': 'sqrt', 'n_estimators': 40}, mean: 0.63954, std: 0.00951, params: {'max_features': 'sqrt', 'n_estimators': 50}, mean: 0.63761, std: 0.00271, params: {'max_features': 'sqrt', 'n_estimators': 60}, mean: 0.63954, std: 0.00057, params: {'max_features': 'sqrt', 'n_estimators': 70}, mean: 0.62240, std: 0.00285, params: {'max_features': 'log2', 'n_estimators': 10}, mean: 0.65260, std: 0.00926, params: {'max_features': 'log2', 'n_estimators': 20}, mean: 0.64703, std: 0.00401, params: {'max_features': 'log2', 'n_estimators': 40}, mean: 0.64982, std: 0.00654, params: {'max_features': 'log2', 'n_estimators': 50}, mean: 0.64425, std: 0.00373, params: {'max_features': 'log2', 'n_estimators': 60}, mean: 0.64382, std: 0.00526, params: {'max_features': 'log2', 'n_estimators': 70}]\n",
      "-------min_df: 0.0005\n",
      "***best estimator: RandomForestClassifier(bootstrap=True, class_weight=None, criterion='gini',\n",
      "            max_depth=None, max_features='log2', max_leaf_nodes=None,\n",
      "            min_impurity_decrease=0.0, min_impurity_split=None,\n",
      "            min_samples_leaf=1, min_samples_split=2,\n",
      "            min_weight_fraction_leaf=0.0, n_estimators=60, n_jobs=1,\n",
      "            oob_score=False, random_state=None, verbose=0,\n",
      "            warm_start=False)\n",
      "***best params: {'max_features': 'log2', 'n_estimators': 60}\n",
      "***best score: 0.6853715999143285\n",
      "***grid scores: [mean: 0.64810, std: 0.01326, params: {'max_features': 'auto', 'n_estimators': 10}, mean: 0.66417, std: 0.00423, params: {'max_features': 'auto', 'n_estimators': 20}, mean: 0.67552, std: 0.00193, params: {'max_features': 'auto', 'n_estimators': 40}, mean: 0.67466, std: 0.00705, params: {'max_features': 'auto', 'n_estimators': 50}, mean: 0.66245, std: 0.00578, params: {'max_features': 'auto', 'n_estimators': 60}, mean: 0.67209, std: 0.01038, params: {'max_features': 'auto', 'n_estimators': 70}, mean: 0.64104, std: 0.00613, params: {'max_features': 'sqrt', 'n_estimators': 10}, mean: 0.66288, std: 0.00592, params: {'max_features': 'sqrt', 'n_estimators': 20}, mean: 0.66481, std: 0.00158, params: {'max_features': 'sqrt', 'n_estimators': 40}, mean: 0.67038, std: 0.00419, params: {'max_features': 'sqrt', 'n_estimators': 50}, mean: 0.67081, std: 0.00390, params: {'max_features': 'sqrt', 'n_estimators': 60}, mean: 0.66888, std: 0.00621, params: {'max_features': 'sqrt', 'n_estimators': 70}, mean: 0.63268, std: 0.00883, params: {'max_features': 'log2', 'n_estimators': 10}, mean: 0.66224, std: 0.00388, params: {'max_features': 'log2', 'n_estimators': 20}, mean: 0.67916, std: 0.00469, params: {'max_features': 'log2', 'n_estimators': 40}, mean: 0.68494, std: 0.00384, params: {'max_features': 'log2', 'n_estimators': 50}, mean: 0.68537, std: 0.00627, params: {'max_features': 'log2', 'n_estimators': 60}, mean: 0.68451, std: 0.01118, params: {'max_features': 'log2', 'n_estimators': 70}]\n",
      "-------min_df: 0.0001\n",
      "***best estimator: RandomForestClassifier(bootstrap=True, class_weight=None, criterion='gini',\n",
      "            max_depth=None, max_features='log2', max_leaf_nodes=None,\n",
      "            min_impurity_decrease=0.0, min_impurity_split=None,\n",
      "            min_samples_leaf=1, min_samples_split=2,\n",
      "            min_weight_fraction_leaf=0.0, n_estimators=70, n_jobs=1,\n",
      "            oob_score=False, random_state=None, verbose=0,\n",
      "            warm_start=False)\n",
      "***best params: {'max_features': 'log2', 'n_estimators': 70}\n",
      "***best score: 0.678303705290212\n",
      "***grid scores: [mean: 0.65432, std: 0.00512, params: {'max_features': 'auto', 'n_estimators': 10}, mean: 0.65581, std: 0.00354, params: {'max_features': 'auto', 'n_estimators': 20}, mean: 0.65260, std: 0.00949, params: {'max_features': 'auto', 'n_estimators': 40}, mean: 0.66053, std: 0.00748, params: {'max_features': 'auto', 'n_estimators': 50}, mean: 0.66074, std: 0.01380, params: {'max_features': 'auto', 'n_estimators': 60}, mean: 0.66310, std: 0.00212, params: {'max_features': 'auto', 'n_estimators': 70}, mean: 0.63975, std: 0.01045, params: {'max_features': 'sqrt', 'n_estimators': 10}, mean: 0.65132, std: 0.01115, params: {'max_features': 'sqrt', 'n_estimators': 20}, mean: 0.66267, std: 0.00757, params: {'max_features': 'sqrt', 'n_estimators': 40}, mean: 0.65646, std: 0.00668, params: {'max_features': 'sqrt', 'n_estimators': 50}, mean: 0.65903, std: 0.00512, params: {'max_features': 'sqrt', 'n_estimators': 60}, mean: 0.66610, std: 0.00856, params: {'max_features': 'sqrt', 'n_estimators': 70}, mean: 0.62669, std: 0.01178, params: {'max_features': 'log2', 'n_estimators': 10}, mean: 0.65217, std: 0.00949, params: {'max_features': 'log2', 'n_estimators': 20}, mean: 0.67231, std: 0.00993, params: {'max_features': 'log2', 'n_estimators': 40}, mean: 0.66374, std: 0.00684, params: {'max_features': 'log2', 'n_estimators': 50}, mean: 0.67316, std: 0.00797, params: {'max_features': 'log2', 'n_estimators': 60}, mean: 0.67830, std: 0.00986, params: {'max_features': 'log2', 'n_estimators': 70}]\n",
      "-------min_df: 0.001\n",
      "***best estimator: RandomForestClassifier(bootstrap=True, class_weight=None, criterion='gini',\n",
      "            max_depth=None, max_features='log2', max_leaf_nodes=None,\n",
      "            min_impurity_decrease=0.0, min_impurity_split=None,\n",
      "            min_samples_leaf=1, min_samples_split=2,\n",
      "            min_weight_fraction_leaf=0.0, n_estimators=70, n_jobs=1,\n",
      "            oob_score=False, random_state=None, verbose=0,\n",
      "            warm_start=False)\n",
      "***best params: {'max_features': 'log2', 'n_estimators': 70}\n",
      "***best score: 0.6870850289141144\n",
      "***grid scores: [mean: 0.63483, std: 0.00342, params: {'max_features': 'auto', 'n_estimators': 10}, mean: 0.65560, std: 0.00994, params: {'max_features': 'auto', 'n_estimators': 20}, mean: 0.66738, std: 0.00808, params: {'max_features': 'auto', 'n_estimators': 40}, mean: 0.67402, std: 0.00162, params: {'max_features': 'auto', 'n_estimators': 50}, mean: 0.67231, std: 0.00111, params: {'max_features': 'auto', 'n_estimators': 60}, mean: 0.66417, std: 0.00096, params: {'max_features': 'auto', 'n_estimators': 70}, mean: 0.63354, std: 0.01222, params: {'max_features': 'sqrt', 'n_estimators': 10}, mean: 0.66610, std: 0.00815, params: {'max_features': 'sqrt', 'n_estimators': 20}, mean: 0.66138, std: 0.00401, params: {'max_features': 'sqrt', 'n_estimators': 40}, mean: 0.66845, std: 0.00738, params: {'max_features': 'sqrt', 'n_estimators': 50}, mean: 0.66952, std: 0.00498, params: {'max_features': 'sqrt', 'n_estimators': 60}, mean: 0.66545, std: 0.00411, params: {'max_features': 'sqrt', 'n_estimators': 70}, mean: 0.63268, std: 0.00624, params: {'max_features': 'log2', 'n_estimators': 10}, mean: 0.64960, std: 0.01345, params: {'max_features': 'log2', 'n_estimators': 20}, mean: 0.67531, std: 0.00807, params: {'max_features': 'log2', 'n_estimators': 40}, mean: 0.67466, std: 0.00818, params: {'max_features': 'log2', 'n_estimators': 50}, mean: 0.68194, std: 0.00360, params: {'max_features': 'log2', 'n_estimators': 60}, mean: 0.68709, std: 0.00429, params: {'max_features': 'log2', 'n_estimators': 70}]\n"
     ]
    }
   ],
   "source": [
    "from sklearn.ensemble import RandomForestClassifier\n",
    "from sklearn.grid_search import GridSearchCV\n",
    "mindfs=[0.00001,0.0005,0.0001,0.001]\n",
    "#mindfs=[0.0005,0.0001]\n",
    "for mindf in mindfs:\n",
    "    vectorizer = CountVectorizer(min_df=mindf,ngram_range=(1, 2),token_pattern=r'\\b\\w+\\b')\n",
    "    Xthis, ythis = make_xy(critics, vectorizer)\n",
    "    Xtrainthis = Xthis[mask]\n",
    "    ytrainthis = ythis[mask]\n",
    "    Xtestthis = Xthis[~mask]\n",
    "    ytestthis = ythis[~mask]\n",
    "    feat=np.sqrt(len(vectorizer.get_feature_names()))\n",
    "    parameters = {\"n_estimators\": [10,20,40,50,60,70],\"max_features\":['auto','sqrt','log2']}\n",
    "    clf = RandomForestClassifier()\n",
    "    fitmodel = GridSearchCV(clf, param_grid=parameters, scoring=\"accuracy\")\n",
    "    fitmodel.fit(Xtrainthis, ytrainthis)\n",
    "    print('-------min_df:',mindf)\n",
    "    print('***best estimator:',fitmodel.best_estimator_)\n",
    "    print('***best params:',fitmodel.best_params_)\n",
    "    print('***best score:',fitmodel.best_score_)\n",
    "    print('***grid scores:', fitmodel.grid_scores_)\n",
    "    #score = cv_score(clf,Xtrainthis,ytrainthis,clf_score)\n",
    "    #print(score)"
   ]
  },
  {
   "cell_type": "code",
   "execution_count": null,
   "metadata": {},
   "outputs": [],
   "source": [
    "vectorizer = CountVectorizer(min_df=0.0005,ngram_range=(1, 2),token_pattern=r'\\b\\w+\\b')\n",
    "Xthis, ythis = make_xy(critics, vectorizer)\n",
    "Xtrainthis = Xthis[mask]\n",
    "ytrainthis = ythis[mask]\n",
    "Xtestthis = Xthis[~mask]\n",
    "ytestthis = ythis[~mask]\n",
    "feat=np.sqrt(len(vectorizer.get_feature_names()))\n",
    "parameters = {\"n_estimators\": [60,80,100,150,250],\"max_features\":['auto','sqrt','log2']}\n",
    "clf = RandomForestClassifier()\n",
    "fitmodel = GridSearchCV(clf, param_grid=parameters, scoring=\"accuracy\")\n",
    "fitmodel.fit(Xtrainthis, ytrainthis)\n",
    "print('-------min_df:',mindf)\n",
    "print('***best estimator:',fitmodel.best_estimator_)\n",
    "print('***best params:',fitmodel.best_params_)\n",
    "print('***best score:',fitmodel.best_score_)\n",
    "print('***grid scores:', fitmodel.grid_scores_)"
   ]
  },
  {
   "cell_type": "code",
   "execution_count": 44,
   "metadata": {},
   "outputs": [
    {
     "name": "stdout",
     "output_type": "stream",
     "text": [
      "0.678943611706\n"
     ]
    }
   ],
   "source": [
    "from sklearn.ensemble import RandomForestClassifier\n",
    "from sklearn.grid_search import GridSearchCV\n",
    "vectorizer = CountVectorizer(min_df=0.0005,ngram_range=(1, 2),token_pattern=r'\\b\\w+\\b')\n",
    "Xthis, ythis = make_xy(critics, vectorizer)\n",
    "Xtrainthis = Xthis[mask]\n",
    "ytrainthis = ythis[mask]\n",
    "Xtestthis = Xthis[~mask]\n",
    "ytestthis = ythis[~mask]\n",
    "clf = fitmodel.best_estimator_\n",
    "score = cv_score(clf,Xtrainthis,ytrainthis,clf_score)\n",
    "print(score)"
   ]
  },
  {
   "cell_type": "code",
   "execution_count": 45,
   "metadata": {},
   "outputs": [
    {
     "name": "stdout",
     "output_type": "stream",
     "text": [
      "Accuracy on training data: 0.933176\n",
      "Accuracy on test data:     0.684080\n"
     ]
    }
   ],
   "source": [
    "training_accuracy = clf.score(Xtrainthis, ytrainthis)\n",
    "test_accuracy = clf.score(Xtestthis, ytestthis)\n",
    "\n",
    "print(\"Accuracy on training data: {:2f}\".format(training_accuracy))\n",
    "print(\"Accuracy on test data:     {:2f}\".format(test_accuracy))"
   ]
  },
  {
   "cell_type": "markdown",
   "metadata": {},
   "source": [
    "Response:\n",
    "Below is an implementation of Naive Bayes that uses TF-IDF for classification"
   ]
  },
  {
   "cell_type": "code",
   "execution_count": 46,
   "metadata": {},
   "outputs": [
    {
     "name": "stdout",
     "output_type": "stream",
     "text": [
      "Accuracy on training data: 0.844078\n",
      "Accuracy on test data:     0.670033\n"
     ]
    }
   ],
   "source": [
    "from sklearn.feature_extraction.text import TfidfVectorizer\n",
    "tfidfvectorizer = TfidfVectorizer(min_df=1, stop_words='english')\n",
    "#Xtfidf=tfidfvectorizer.fit_transform(critics.quote)\n",
    "X, y = make_xy(critics, tfidfvectorizer)\n",
    "xtrain=X[mask]\n",
    "ytrain=y[mask]\n",
    "xtest=X[~mask]\n",
    "ytest=y[~mask]\n",
    "\n",
    "clf = MultinomialNB(alpha=1).fit(xtrain, ytrain)\n",
    "#clf = MultinomialNB(alpha=5).fit(xtrain, ytrain)\n",
    "\n",
    "#your turn. Print the accuracy on the test and training dataset\n",
    "training_accuracy = clf.score(xtrain, ytrain)\n",
    "test_accuracy = clf.score(xtest, ytest)\n",
    "\n",
    "print(\"Accuracy on training data: {:2f}\".format(training_accuracy))\n",
    "print(\"Accuracy on test data:     {:2f}\".format(test_accuracy))"
   ]
  },
  {
   "cell_type": "code",
   "execution_count": 47,
   "metadata": {},
   "outputs": [
    {
     "ename": "SyntaxError",
     "evalue": "invalid syntax (<ipython-input-47-fa2015e0c1e9>, line 1)",
     "output_type": "error",
     "traceback": [
      "\u001b[0;36m  File \u001b[0;32m\"<ipython-input-47-fa2015e0c1e9>\"\u001b[0;36m, line \u001b[0;32m1\u001b[0m\n\u001b[0;31m    rom sklearn.naive_bayes import MultinomialNB\u001b[0m\n\u001b[0m              ^\u001b[0m\n\u001b[0;31mSyntaxError\u001b[0m\u001b[0;31m:\u001b[0m invalid syntax\n"
     ]
    }
   ],
   "source": [
    "rom sklearn.naive_bayes import MultinomialNB\n",
    "\n",
    "alphas = [1,5,10,50]\n",
    "min_dfs = [0,0.00009,0.0001,0.001,0.005,0.01]\n",
    "#min_dfs = [0,0.00009,0.0001,0.001]\n",
    "best_score=-np.inf\n",
    "best_alpha,best_min_df = None,None\n",
    "\n",
    "for alpha in alphas:\n",
    "    for min_df in min_dfs:\n",
    "        tfidfvectorizer = TfidfVectorizer(min_df=min_df,analyzer='word',stop_words='english',\n",
    "                                          ngram_range=(1, 4),token_pattern=r'\\b\\w+\\b')       \n",
    "        #vectorizer_n2 = CountVectorizer(min_df=min_df)       \n",
    "        Xthis, ythis = make_xy(critics, tfidfvectorizer)\n",
    "        Xtrainthis = Xthis[mask]\n",
    "        ytrainthis = ythis[mask]\n",
    "        clf = MultinomialNB(alpha=alpha)\n",
    "        score = cv_score(clf,Xtrainthis,ytrainthis,clf_score)\n",
    "        print(' min_df :',min_df,'alpha:',alpha,' score :',score)\n",
    "        if score > best_score:\n",
    "            best_score=score\n",
    "            best_min_df = min_df\n",
    "            best_alpha = alpha\n",
    "\n",
    "print('-----------------')\n",
    "print('best alpha:',best_alpha,'best min-df:',best_min_df,'best score:',best_score)"
   ]
  },
  {
   "cell_type": "code",
   "execution_count": null,
   "metadata": {
    "collapsed": true
   },
   "outputs": [],
   "source": [
    "tfidfvectorizer = TfidfVectorizer(min_df=best_min_df,analyzer='word',stop_words='english',\n",
    "                                  ngram_range=(1, 4),token_pattern=r'\\b\\w+\\b')\n",
    "#Xtfidf=tfidfvectorizer.fit_transform(critics.quote)\n",
    "X, y = make_xy(critics, tfidfvectorizer)\n",
    "xtrain=X[mask]\n",
    "ytrain=y[mask]\n",
    "xtest=X[~mask]\n",
    "ytest=y[~mask]\n",
    "\n",
    "clf = MultinomialNB(alpha=best_alpha).fit(xtrain, ytrain)\n",
    "#clf = MultinomialNB(alpha=5).fit(xtrain, ytrain)\n",
    "\n",
    "#your turn. Print the accuracy on the test and training dataset\n",
    "training_accuracy = clf.score(xtrain, ytrain)\n",
    "test_accuracy = clf.score(xtest, ytest)\n",
    "\n",
    "print(\"Accuracy on training data: {:2f}\".format(training_accuracy))\n",
    "print(\"Accuracy on test data:     {:2f}\".format(test_accuracy))"
   ]
  },
  {
   "cell_type": "code",
   "execution_count": null,
   "metadata": {
    "collapsed": true
   },
   "outputs": [],
   "source": [
    "find_good_bad_words(tfidfvectorizer,clf)"
   ]
  },
  {
   "cell_type": "markdown",
   "metadata": {},
   "source": [
    "Response:\n",
    "Below is an implementation of LDA for classification"
   ]
  },
  {
   "cell_type": "code",
   "execution_count": null,
   "metadata": {
    "collapsed": true
   },
   "outputs": [],
   "source": [
    "from sklearn.decomposition import LatentDirichletAllocation as LDA\n",
    "vectorizer_lda = CountVectorizer(min_df=0.00009,ngram_range=(1, 2),token_pattern=r'\\b\\w+\\b') \n",
    "\n",
    "X, y = make_xy(critics, vectorizer_lda)\n",
    "xtrain=X[mask]\n",
    "ytrain=y[mask]\n",
    "xtest=X[~mask]\n",
    "ytest=y[~mask]"
   ]
  },
  {
   "cell_type": "code",
   "execution_count": null,
   "metadata": {
    "collapsed": true
   },
   "outputs": [],
   "source": [
    "lda = LDA(n_topics=20)\n",
    "lda.fit(xtrain)\n",
    "training_features = lda.transform(xtrain)\n",
    "testing_features=lda.transform(xtest)\n",
    "xtrain_trn_feat=sp.sparse.hstack((xtrain,sp.sparse.csc_matrix(training_features)))\n",
    "xtest_tst_feat=sp.sparse.hstack((xtest,sp.sparse.csc_matrix(testing_features)))\n",
    "\n",
    "#clf = MultinomialNB(alpha=1).fit(xtrain_trn_feat, ytrain)"
   ]
  },
  {
   "cell_type": "code",
   "execution_count": null,
   "metadata": {
    "collapsed": true
   },
   "outputs": [],
   "source": [
    "clf = MultinomialNB(alpha=1).fit(xtrain_trn_feat, ytrain)\n",
    "#clf = MultinomialNB(alpha=5).fit(xtrain, ytrain)\n",
    "\n",
    "#your turn. Print the accuracy on the test and training dataset\n",
    "training_accuracy = clf.score(xtrain_trn_feat, ytrain)\n",
    "test_accuracy = clf.score(xtest_tst_feat, ytest)\n",
    "\n",
    "print(\"Accuracy on training data: {:2f}\".format(training_accuracy))\n",
    "print(\"Accuracy on test data:     {:2f}\".format(test_accuracy))"
   ]
  }
 ],
 "metadata": {
  "kernelspec": {
   "display_name": "Python 3",
   "language": "python",
   "name": "python3"
  },
  "language_info": {
   "codemirror_mode": {
    "name": "ipython",
    "version": 3
   },
   "file_extension": ".py",
   "mimetype": "text/x-python",
   "name": "python",
   "nbconvert_exporter": "python",
   "pygments_lexer": "ipython3",
   "version": "3.6.3"
  }
 },
 "nbformat": 4,
 "nbformat_minor": 1
}
